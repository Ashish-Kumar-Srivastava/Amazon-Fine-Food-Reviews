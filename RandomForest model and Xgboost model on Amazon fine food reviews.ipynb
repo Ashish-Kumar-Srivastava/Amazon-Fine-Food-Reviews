{
 "cells": [
  {
   "cell_type": "markdown",
   "metadata": {},
   "source": [
    "# RandomForest and Xgboost model on Amazon Fine Food Reviews dataset\n",
    "\n",
    "The Amazon Fine Food Reviews dataset consists of reviews of fine foods from Amazon.\n",
    "\n",
    "Number of reviews: 568,454\n",
    "Number of users: 256,059\n",
    "Number of products: 74,258\n",
    "Timespan: Oct 1999 - Oct 2012\n",
    "Number of Attributes/Columns in data: 10\n",
    "\n",
    "Attribute Information:\n",
    "\n",
    "1. Id\n",
    "2. ProductId - unique identifier for the product\n",
    "3. UserId - unqiue identifier for the user\n",
    "4. ProfileName\n",
    "5. HelpfulnessNumerator - number of users who found the review helpful\n",
    "6. HelpfulnessDenominator - number of users who indicated whether they found the review helpful or not\n",
    "7. Score - rating between 1 and 5\n",
    "8. Time - timestamp for the review\n",
    "9. Summary - brief summary of the review\n",
    "10. Text - text of the review\n",
    "\n",
    "#### Objective:\n",
    "Classification Amazon reviews with polarity based color-coding (that means predicting wheater review is positive or not)"
   ]
  },
  {
   "cell_type": "markdown",
   "metadata": {},
   "source": [
    "# Loading the data\n",
    "\n",
    "The dataset is available in two forms\n",
    "1. .csv file\n",
    "2. SQLite Database\n",
    "\n",
    "In order to load the data, We have used the SQLITE dataset as it easier to query the data and visualise the data efficiently.\n",
    "<br> "
   ]
  },
  {
   "cell_type": "code",
   "execution_count": 1,
   "metadata": {},
   "outputs": [],
   "source": [
    "\n",
    "import sqlite3\n",
    "import pandas as pd\n",
    "import numpy as np\n",
    "import matplotlib.pyplot as plt\n",
    "\n",
    "con = sqlite3.connect('database.sqlite') #connecting to 'database.sqlite' and reading data from it \n",
    "\n",
    "filter_amz_data = pd.read_sql_query(\"\"\" \n",
    "SELECT *\n",
    "FROM Reviews\n",
    "WHERE Score != 3\n",
    "\"\"\", con) # taking only those reviews having score greater than 3(4,5) and less than 3(1,2) not taking reviews of score 3\n",
    "\n",
    "\n",
    "def partition_positive_negative(x): # Give reviews with Score>3 a positive rating, and reviews with a score<3 a negative rating.\n",
    "    if x < 3:\n",
    "        return 0\n",
    "    return 1\n",
    "\n",
    "#changing reviews with score less than 3 to be positive and vice-versa\n",
    "actualScore = filter_amz_data['Score']\n",
    "positiveNegative = actualScore.map(partition_positive_negative) #map() will maps inputs of 'actualscore' using function partition\n",
    "filter_amz_data['Score'] = positiveNegative"
   ]
  },
  {
   "cell_type": "code",
   "execution_count": 2,
   "metadata": {},
   "outputs": [],
   "source": [
    "sample_amz_data = filter_amz_data.head(30000) #Sampled amazon fine foood reviews filtered data to 15k datapoints for time effiecieny"
   ]
  },
  {
   "cell_type": "markdown",
   "metadata": {},
   "source": [
    "#  Exploratory Data Analysis\n",
    "\n",
    "## [7.1.2] Data Cleaning: Deduplication\n"
   ]
  },
  {
   "cell_type": "code",
   "execution_count": 3,
   "metadata": {},
   "outputs": [],
   "source": [
    "#Sorting data according to ProductId in ascending order; sorting is necessary because if duplicates entries are there than we want to have only one of it and that we get from first entry of duplicates entries after sorting\n",
    "\n",
    "sorted_data = sample_amz_data.sort_values('ProductId', axis=0, ascending=True, inplace=False, kind='quicksort', na_position='last')"
   ]
  },
  {
   "cell_type": "markdown",
   "metadata": {},
   "source": [
    "**sorting is necessary because if duplicates entries are there than we want to have only one of it and that we get from first entry of duplicates entries after sorting**"
   ]
  },
  {
   "cell_type": "code",
   "execution_count": 4,
   "metadata": {},
   "outputs": [
    {
     "name": "stdout",
     "output_type": "stream",
     "text": [
      "(30000, 10)\n",
      "(28072, 10)\n"
     ]
    }
   ],
   "source": [
    "#Deduplication of entries\n",
    "\n",
    "final = sorted_data.drop_duplicates(subset={\"UserId\",\"ProfileName\",\"Time\",\"Text\"}, keep='first', inplace=False)\n",
    "print(sorted_data.shape) \n",
    "print(final.shape)"
   ]
  },
  {
   "cell_type": "markdown",
   "metadata": {},
   "source": [
    "**As we can see that in sorted_data there are 30k points but now after removing duplicates entries we git some 28k points**"
   ]
  },
  {
   "cell_type": "code",
   "execution_count": 5,
   "metadata": {},
   "outputs": [],
   "source": [
    "final=final[final.HelpfulnessNumerator<=final.HelpfulnessDenominator]\n",
    "# It was also seen that in two rows given below the value of HelpfulnessNumerator is greater than HelpfulnessDenominator \n",
    "#which is not practically possible hence these two rows too are removed from calcualtions"
   ]
  },
  {
   "cell_type": "code",
   "execution_count": 6,
   "metadata": {},
   "outputs": [
    {
     "name": "stdout",
     "output_type": "stream",
     "text": [
      "(28072, 10)\n"
     ]
    },
    {
     "data": {
      "text/plain": [
       "1    23606\n",
       "0     4466\n",
       "Name: Score, dtype: int64"
      ]
     },
     "execution_count": 6,
     "metadata": {},
     "output_type": "execute_result"
    }
   ],
   "source": [
    "#Before starting the next phase of preprocessing lets see the number of entries left\n",
    "print(final.shape)\n",
    "\n",
    "#How many positive and negative reviews are present in our dataset?\n",
    "final['Score'].value_counts()"
   ]
  },
  {
   "cell_type": "markdown",
   "metadata": {},
   "source": [
    "##  Text Preprocessing: Stemming, stop-word removal and Lemmatization.\n",
    "\n",
    "Now that we have finished deduplication our data requires some preprocessing before we go on further with analysis and making the prediction model.\n",
    "\n",
    "Hence in the Preprocessing phase we do the following in the order below:-\n",
    "\n",
    "1. Begin by removing the html tags\n",
    "2. Remove any punctuations or limited set of special characters like , or . or # etc.\n",
    "3. Check if the word is made up of english letters and is not alpha-numeric\n",
    "4. Check to see if the length of the word is greater than 2 (as it was researched that there is no adjective in 2-letters)\n",
    "5. Convert the word to lowercase\n",
    "6. Remove Stopwords\n",
    "7. Finally Snowball Stemming the word (it was obsereved to be better than Porter Stemming)<br>\n",
    "\n",
    "After which we collect the words used to describe positive and negative reviews"
   ]
  },
  {
   "cell_type": "code",
   "execution_count": 7,
   "metadata": {},
   "outputs": [],
   "source": [
    "import re\n",
    "import nltk\n",
    "import string\n",
    "from nltk.corpus import stopwords # nltk- natural language processing toolkit\n",
    "from nltk.stem import PorterStemmer\n",
    "from nltk.stem.wordnet import WordNetLemmatizer\n",
    "\n",
    "stop = set(stopwords.words('english')) #set of stopwords\n",
    "sno = nltk.stem.SnowballStemmer('english') #initialising the snowball stemmer\n",
    "\n",
    "def cleanhtml(sentence): #function to clean the word of any html-tags\n",
    "    cleanr = re.compile('<.*?>')\n",
    "    cleantext = re.sub(cleanr, ' ', sentence)\n",
    "    return cleantext\n",
    "def cleanpunc(sentence): #function to clean the word of any punctuation or special characters\n",
    "    cleaned = re.sub(r'[?|!|\\'|\"|#]',r'',sentence)\n",
    "    cleaned = re.sub(r'[.|,|)|(|\\|/]',r' ',cleaned)\n",
    "    return  cleaned"
   ]
  },
  {
   "cell_type": "code",
   "execution_count": 8,
   "metadata": {},
   "outputs": [],
   "source": [
    "#Code for implementing step-by-step the checks mentioned in the pre-processing phase\n",
    "\n",
    "i=0\n",
    "str1=' '\n",
    "final_string=[]\n",
    "s=''\n",
    "for sent in final['Text'].values: #taking each reviews\n",
    "    filtered_sentence=[]\n",
    "    sent=cleanhtml(sent) # remove HTMl tags\n",
    "    for w in sent.split(): # taking each words of each reviews\n",
    "        for cleaned_words in cleanpunc(w).split(): #cleanpunc(w) will remove any punctuations/special symbols from each word\n",
    "            if((cleaned_words.isalpha()) & (len(cleaned_words)>2)):   #checking word should be only have alphabets not aplha-numeric/numeric and all words should have length >2 \n",
    "                if(cleaned_words.lower() not in stop):\n",
    "                    s=(sno.stem(cleaned_words.lower())).encode('utf8') #returing each word to be in lower case\n",
    "                    filtered_sentence.append(s) # appending each filtered word of reviews to the list\n",
    "                else:\n",
    "                    continue\n",
    "            else:\n",
    "                continue \n",
    "    str1 = b\" \".join(filtered_sentence) #final string of cleaned words\n",
    "    final_string.append(str1)\n",
    "    i+=1"
   ]
  },
  {
   "cell_type": "code",
   "execution_count": 9,
   "metadata": {},
   "outputs": [],
   "source": [
    "final['CleanedText']=final_string #adding a column of CleanedText which displays the data after pre-processing of the review "
   ]
  },
  {
   "cell_type": "markdown",
   "metadata": {},
   "source": [
    "<h2>Sorting dataset based on 'Time' feature</h2>"
   ]
  },
  {
   "cell_type": "code",
   "execution_count": 10,
   "metadata": {},
   "outputs": [],
   "source": [
    "sorted_Time_data = final.sort_values('Time', axis=0, ascending=True, inplace=False, kind='quicksort', na_position='last')\n"
   ]
  },
  {
   "cell_type": "markdown",
   "metadata": {},
   "source": [
    "<h1>Techniques for Vectorization/Featurization Text data :--</h1>"
   ]
  },
  {
   "cell_type": "code",
   "execution_count": 36,
   "metadata": {},
   "outputs": [],
   "source": [
    "import numpy as np\n",
    "import pandas as pd\n",
    "import matplotlib.pyplot as plt\n",
    "from sklearn.model_selection import train_test_split\n",
    "from sklearn.metrics import accuracy_score\n",
    "from sklearn.cross_validation import cross_val_score\n",
    "from sklearn import cross_validation\n",
    "from time import time\n",
    "from sklearn import tree\n",
    "from sklearn.model_selection import GridSearchCV\n",
    "from sklearn.model_selection import RandomizedSearchCV\n",
    "from sklearn.ensemble import RandomForestClassifier\n",
    "import xgboost as xgb\n",
    "from sklearn.metrics import confusion_matrix\n",
    "import seaborn as sns"
   ]
  },
  {
   "cell_type": "markdown",
   "metadata": {},
   "source": [
    "# (1) Average word2vec"
   ]
  },
  {
   "cell_type": "markdown",
   "metadata": {},
   "source": [
    "<h2>1.1 Train and Test data split into 70:30 ratio</h2>"
   ]
  },
  {
   "cell_type": "code",
   "execution_count": 13,
   "metadata": {},
   "outputs": [
    {
     "name": "stdout",
     "output_type": "stream",
     "text": [
      "(19651, 11)\n",
      "(19651,)\n",
      "(8421, 11)\n",
      "(8421,)\n"
     ]
    }
   ],
   "source": [
    "#Spliting dataset to training(with first 70% points) and test(remaining 30% points) dataset\n",
    "\n",
    "n=len(sorted_Time_data)\n",
    "\n",
    "tr=sorted_Time_data.head((int(n*0.7))+1)#taking first 70% of points from sorted dataset based on 'Time' feature\n",
    "labels_tr=sorted_Time_data['Score'].head(int(n*0.7)+1)\n",
    "\n",
    "\n",
    "ts=sorted_Time_data.tail((int(n*0.3)))   #taking remaining 30% of points from sorted dataset based on 'Time' feature\n",
    "labels_ts=sorted_Time_data['Score'].tail(int(n*0.3))\n",
    "\n",
    "print(tr.shape)\n",
    "print(labels_tr.shape)\n",
    "print(ts.shape)\n",
    "print(labels_ts.shape)"
   ]
  },
  {
   "cell_type": "markdown",
   "metadata": {},
   "source": [
    "<h2>1.2 Computing word2vector for Train data</h2>"
   ]
  },
  {
   "cell_type": "code",
   "execution_count": 15,
   "metadata": {},
   "outputs": [],
   "source": [
    "# Train our own Word2Vec model using our own text corpus of train dataset\n",
    "import gensim\n",
    "i=0\n",
    "list_sent_tr=[]\n",
    "for sent in tr['Text'].values:\n",
    "    filtered_sentence=[]\n",
    "    sent=cleanhtml(sent)\n",
    "    for w in sent.split():\n",
    "        for cleaned_words in cleanpunc(w).split():\n",
    "            if(cleaned_words.isalpha()):    \n",
    "                filtered_sentence.append(cleaned_words.lower())\n",
    "            else:\n",
    "                continue \n",
    "    list_sent_tr.append(filtered_sentence)\n",
    "    "
   ]
  },
  {
   "cell_type": "code",
   "execution_count": 16,
   "metadata": {},
   "outputs": [],
   "source": [
    "w2vmodel_tr=gensim.models.Word2Vec(list_sent_tr,min_count=1,size=50, workers=4)    \n",
    "# min_count here says that if a word doesn't occur atleast 5 times than not construct its word2vector\n",
    "# size means dimension of each vector of word  , here is 50 dimension"
   ]
  },
  {
   "cell_type": "code",
   "execution_count": 17,
   "metadata": {},
   "outputs": [],
   "source": [
    "# average Word2Vec\n",
    "# compute average word2vec for each review.\n",
    "sent_vec_tr = []; # the avg-w2v for each sentence/review is stored in this list\n",
    "for sent in list_sent_tr: # for each review/sentence\n",
    "    sent_vec = np.zeros(50) # as word vectors are of zero length\n",
    "    cnt_words =0; # num of words with a valid vector in the sentence/review\n",
    "    for word in sent: # for each word in a review/sentence\n",
    "        try:\n",
    "            vec = w2vmodel_tr.wv[word]\n",
    "            sent_vec += vec\n",
    "            cnt_words += 1\n",
    "        except:\n",
    "            pass\n",
    "    sent_vec /= cnt_words\n",
    "    sent_vec_tr.append(sent_vec)\n"
   ]
  },
  {
   "cell_type": "markdown",
   "metadata": {},
   "source": [
    "<h2> 1.3 Computing word2vector for test data</h2>"
   ]
  },
  {
   "cell_type": "code",
   "execution_count": 18,
   "metadata": {},
   "outputs": [],
   "source": [
    "# Train our own Word2Vec model using our own text corpus of test data\n",
    "import gensim\n",
    "i=0\n",
    "list_of_sent_ts=[]\n",
    "for sent in ts['Text'].values:\n",
    "    filtered_sentence=[]\n",
    "    sent=cleanhtml(sent)\n",
    "    for w in sent.split():\n",
    "        for cleaned_words in cleanpunc(w).split():\n",
    "            if(cleaned_words.isalpha()):    \n",
    "                filtered_sentence.append(cleaned_words.lower())\n",
    "            else:\n",
    "                continue \n",
    "    list_of_sent_ts.append(filtered_sentence)\n",
    "    "
   ]
  },
  {
   "cell_type": "code",
   "execution_count": 19,
   "metadata": {},
   "outputs": [],
   "source": [
    "w2v_model_ts=gensim.models.Word2Vec(list_of_sent_ts,min_count=1,size=50, workers=4)    \n",
    "# min_count here says that if a word doesn't occur atleast 5 times than not construct its word2vector\n",
    "# size means dimension of each vector of word  , here is 50 dimension"
   ]
  },
  {
   "cell_type": "code",
   "execution_count": 20,
   "metadata": {},
   "outputs": [],
   "source": [
    "# average Word2Vec\n",
    "# compute average word2vec for each review.\n",
    "sent_vectors_ts = []; # the avg-w2v for each sentence/review is stored in this list\n",
    "for sent in list_of_sent_ts: # for each review/sentence\n",
    "    sent_vec = np.zeros(50) # as word vectors are of zero length\n",
    "    cnt_words =0; # num of words with a valid vector in the sentence/review\n",
    "    for word in sent: # for each word in a review/sentence\n",
    "        try:\n",
    "            vec = w2v_model_ts.wv[word]\n",
    "            sent_vec += vec\n",
    "            cnt_words += 1\n",
    "        except:\n",
    "            pass\n",
    "    sent_vec /= cnt_words\n",
    "    sent_vectors_ts.append(sent_vec)\n"
   ]
  },
  {
   "cell_type": "markdown",
   "metadata": {},
   "source": [
    "<h2> Random Forest Classifier</h2>"
   ]
  },
  {
   "cell_type": "markdown",
   "metadata": {},
   "source": [
    "<h2>1.4 Random Search on Random Forest Classifier for computing optimal hyperparameter</h2>"
   ]
  },
  {
   "cell_type": "code",
   "execution_count": 26,
   "metadata": {},
   "outputs": [
    {
     "data": {
      "text/plain": [
       "RandomizedSearchCV(cv=None, error_score='raise',\n",
       "          estimator=RandomForestClassifier(bootstrap=True, class_weight=None, criterion='gini',\n",
       "            max_depth=None, max_features='auto', max_leaf_nodes=None,\n",
       "            min_impurity_decrease=0.0, min_impurity_split=None,\n",
       "            min_samples_leaf=1, min_samples_split=2,\n",
       "            min_weight_fraction_leaf=0.0, n_estimators=10, n_jobs=1,\n",
       "            oob_score=False, random_state=None, verbose=0,\n",
       "            warm_start=False),\n",
       "          fit_params=None, iid=True, n_iter=10, n_jobs=-1,\n",
       "          param_distributions={'n_estimators': [200, 400, 600, 800, 1000, 1200, 1400, 1600, 1800, 2000], 'max_features': ['auto', 'sqrt'], 'max_depth': [10, 20, 30, 40, 50, 60, 70, 80, 90, 100, 110], 'min_samples_split': [2, 5, 10], 'min_samples_leaf': [1, 2, 4]},\n",
       "          pre_dispatch='2*n_jobs', random_state=None, refit=True,\n",
       "          return_train_score='warn', scoring=None, verbose=0)"
      ]
     },
     "execution_count": 26,
     "metadata": {},
     "output_type": "execute_result"
    }
   ],
   "source": [
    "\n",
    "random_dist = {\n",
    "              'n_estimators': [int(x) for x in np.linspace(200,2000, num = 10)],\n",
    "               'max_features': ['auto', 'sqrt'],\n",
    "               'max_depth': [int(y) for y in np.linspace(10, 110, num = 11)],\n",
    "               'min_samples_split': [2, 5, 10],\n",
    "               'min_samples_leaf': [1, 2, 4]\n",
    "              }\n",
    "\n",
    "clf_avgw2v=RandomForestClassifier()\n",
    "rscv_avgw2v=RandomizedSearchCV(clf_avgw2v, param_distributions=random_dist,n_jobs=-1)\n",
    "rscv_avgw2v.fit(sent_vec_tr, labels_tr)\n"
   ]
  },
  {
   "cell_type": "code",
   "execution_count": 27,
   "metadata": {},
   "outputs": [
    {
     "name": "stdout",
     "output_type": "stream",
     "text": [
      "{'n_estimators': 1200, 'min_samples_split': 5, 'min_samples_leaf': 1, 'max_features': 'auto', 'max_depth': 70}\n"
     ]
    }
   ],
   "source": [
    "print(rscv_avgw2v.best_params_ )"
   ]
  },
  {
   "cell_type": "code",
   "execution_count": 28,
   "metadata": {},
   "outputs": [
    {
     "name": "stdout",
     "output_type": "stream",
     "text": [
      "RandomForestClassifier(bootstrap=True, class_weight=None, criterion='gini',\n",
      "            max_depth=70, max_features='auto', max_leaf_nodes=None,\n",
      "            min_impurity_decrease=0.0, min_impurity_split=None,\n",
      "            min_samples_leaf=1, min_samples_split=5,\n",
      "            min_weight_fraction_leaf=0.0, n_estimators=1200, n_jobs=1,\n",
      "            oob_score=False, random_state=None, verbose=0,\n",
      "            warm_start=False)\n"
     ]
    }
   ],
   "source": [
    "print(rscv_avgw2v.best_estimator_ )"
   ]
  },
  {
   "cell_type": "markdown",
   "metadata": {},
   "source": [
    "<h2>1.5 Computing optimal \"n_estimators\" for 'Random Forest classifier' using 5-fold cross-validation and plotting misclassification error</h2>"
   ]
  },
  {
   "cell_type": "code",
   "execution_count": 31,
   "metadata": {},
   "outputs": [
    {
     "name": "stdout",
     "output_type": "stream",
     "text": [
      "\n",
      "The optimal number of estimators is : 800\n"
     ]
    },
    {
     "data": {
      "image/png": "[encoded data removed]",
      "text/plain": [
       "<matplotlib.figure.Figure at 0x15a57bfd978>"
      ]
     },
     "metadata": {},
     "output_type": "display_data"
    },
    {
     "name": "stdout",
     "output_type": "stream",
     "text": [
      "the misclassification error for each estimators is :  [0.142 0.143 0.142 0.142 0.142 0.142 0.142 0.142 0.142 0.142]\n"
     ]
    }
   ],
   "source": [
    "\n",
    "# creating list of number of estimators for random forest\n",
    "n_estimators_list= list(int(x) for x in np.linspace(200,2000, num = 10))\n",
    "\n",
    "# empty list that will hold cv scores\n",
    "cv_scores = []\n",
    "\n",
    "# perform 10-fold cross validation\n",
    "for esti in n_estimators_list:\n",
    "    RF_clf = RandomForestClassifier(n_estimators=esti, min_samples_split= 5, min_samples_leaf= 1, max_features= 'auto', max_depth= 70,n_jobs=-1)\n",
    "    scores = cross_val_score(RF_clf, sent_vec_tr, labels_tr, cv=5, scoring='accuracy')\n",
    "    cv_scores.append(scores.mean())\n",
    "\n",
    "# changing to misclassification error\n",
    "MSE = [1 - x for x in cv_scores]\n",
    "\n",
    "# determining best max_depth\n",
    "optimal_n_estimators = n_estimators_list[MSE.index(min(MSE))]\n",
    "print('\\nThe optimal number of estimators is : {}'.format(optimal_n_estimators))\n",
    "\n",
    "# plot misclassification error vs number of estimators \n",
    "plt.plot(n_estimators_list, MSE)\n",
    "\n",
    "for xy in zip(n_estimators_list, np.round(MSE,3)):\n",
    "    plt.annotate('(%s, %s)' % xy, xy=xy, textcoords='data')\n",
    "\n",
    "plt.xlabel('Number of Estimators')\n",
    "plt.ylabel('Misclassification Error')\n",
    "plt.show()\n",
    "\n",
    "print(\"the misclassification error for each estimators is : \", np.round(MSE,3))"
   ]
  },
  {
   "cell_type": "markdown",
   "metadata": {},
   "source": [
    "<h2> 1.6 Computing Train error</h2>"
   ]
  },
  {
   "cell_type": "code",
   "execution_count": 32,
   "metadata": {},
   "outputs": [
    {
     "name": "stdout",
     "output_type": "stream",
     "text": [
      "\n",
      " Train error is : 5.088799552188661e-05\n"
     ]
    }
   ],
   "source": [
    "#calculating train error\n",
    "RF_clf = RandomForestClassifier(n_estimators=800, min_samples_split= 5, min_samples_leaf= 1, max_features= 'auto', max_depth= 70,n_jobs=-1)\n",
    "RF_model = RF_clf.fit(sent_vec_tr, labels_tr)\n",
    "y_pred_tr = RF_clf.predict(sent_vec_tr)\n",
    "acc_tr = accuracy_score(labels_tr, y_pred_tr)\n",
    "train_error = 1-acc_tr\n",
    "print('\\n Train error is : {}'.format(train_error))"
   ]
  },
  {
   "cell_type": "markdown",
   "metadata": {},
   "source": [
    "<h2> 1.7 Computing Test error</h2>"
   ]
  },
  {
   "cell_type": "code",
   "execution_count": 33,
   "metadata": {},
   "outputs": [
    {
     "name": "stdout",
     "output_type": "stream",
     "text": [
      "\n",
      " Test error is : 0.17337608360052248\n"
     ]
    }
   ],
   "source": [
    "#calculating test error\n",
    "RF_clf = RandomForestClassifier(n_estimators=800, min_samples_split= 5, min_samples_leaf= 1, max_features= 'auto', max_depth= 70,n_jobs=-1)\n",
    "RF_model = RF_clf.fit(sent_vec_tr, labels_tr)\n",
    "y_pred_ts = RF_clf.predict(sent_vectors_ts)\n",
    "acc_ts = accuracy_score(labels_ts, y_pred_ts)\n",
    "test_error = 1-acc_ts\n",
    "print('\\n Test error is : {}'.format(test_error))\n"
   ]
  },
  {
   "cell_type": "markdown",
   "metadata": {},
   "source": [
    "<h2> 1.8 Accuracy of the model </h2>"
   ]
  },
  {
   "cell_type": "code",
   "execution_count": 40,
   "metadata": {},
   "outputs": [
    {
     "name": "stdout",
     "output_type": "stream",
     "text": [
      "\n",
      " Acurracy of the model is : 0.8266239163994775\n"
     ]
    }
   ],
   "source": [
    "print('\\n Acurracy of the model is : {}'.format(acc_ts))"
   ]
  },
  {
   "cell_type": "markdown",
   "metadata": {},
   "source": [
    "<h2>1.9 Plotting confusion matrix</h2>"
   ]
  },
  {
   "cell_type": "code",
   "execution_count": 37,
   "metadata": {},
   "outputs": [
    {
     "name": "stdout",
     "output_type": "stream",
     "text": [
      "-------------------- Confusion matrix --------------------\n"
     ]
    },
    {
     "data": {
      "image/png": "[encoded data removed]",
      "text/plain": [
       "<matplotlib.figure.Figure at 0x1ab2861edd8>"
      ]
     },
     "metadata": {},
     "output_type": "display_data"
    }
   ],
   "source": [
    "RF_clf = RandomForestClassifier(n_estimators=800, min_samples_split= 5, min_samples_leaf= 1, max_features= 'auto', max_depth= 70,n_jobs=-1)\n",
    "y_pred = RF_clf.fit(sent_vec_tr, labels_tr).predict(sent_vectors_ts)\n",
    "\n",
    "C = confusion_matrix(labels_ts, y_pred)\n",
    "labels = [0,1] #label 0 means they are negative reviews\n",
    "#label 1 means they are positive reviews\n",
    "\n",
    "print(\"-\"*20, \"Confusion matrix\", \"-\"*20)\n",
    "sns.heatmap(C, annot=True, cmap=\"YlGnBu\", fmt=\".3f\", xticklabels=labels, yticklabels=labels)\n",
    "plt.xlabel('Predicted Class')\n",
    "plt.ylabel('Original Class')\n",
    "plt.show()\n"
   ]
  },
  {
   "cell_type": "markdown",
   "metadata": {},
   "source": [
    "<b>Observation(s):--</b>\n",
    "1. Points that are predicted by Random Forest model as class 0 from them 3 points are actually of class 0 and 0 points are of class 1.\n",
    "\n",
    "2. Points that are predicted by Random Forest model as class 1 from them 6960 points are actually of class 1 and 1458 points are of class 0."
   ]
  },
  {
   "cell_type": "markdown",
   "metadata": {},
   "source": [
    "<h2>Xgboost Classifier</h2>"
   ]
  },
  {
   "cell_type": "markdown",
   "metadata": {},
   "source": [
    "<h2>1.10 Random Search on Xgboost Classifier for computing optimal hyperparameter</h2>"
   ]
  },
  {
   "cell_type": "code",
   "execution_count": 23,
   "metadata": {},
   "outputs": [
    {
     "data": {
      "text/plain": [
       "RandomizedSearchCV(cv=None, error_score='raise',\n",
       "          estimator=XGBClassifier(base_score=0.5, booster='gbtree', colsample_bylevel=1,\n",
       "       colsample_bytree=1, gamma=0, learning_rate=0.1, max_delta_step=0,\n",
       "       max_depth=3, min_child_weight=1, missing=None, n_estimators=100,\n",
       "       n_jobs=1, nthread=None, objective='binary:logistic', random_state=0,\n",
       "       reg_alpha=0, reg_lambda=1, scale_pos_weight=1, seed=None,\n",
       "       silent=True, subsample=1),\n",
       "          fit_params=None, iid=True, n_iter=10, n_jobs=-1,\n",
       "          param_distributions={'n_estimators': [50, 60, 70, 80, 90, 100, 110, 120], 'learning_rate': array([0.01  , 0.001 , 0.0001]), 'max_depth': [2, 3, 4, 5]},\n",
       "          pre_dispatch='2*n_jobs', random_state=None, refit=True,\n",
       "          return_train_score='warn', scoring=None, verbose=0)"
      ]
     },
     "execution_count": 23,
     "metadata": {},
     "output_type": "execute_result"
    }
   ],
   "source": [
    "sent_vec_train = np.array(sent_vec_tr)\n",
    "\n",
    "random_dist = {\n",
    "              'n_estimators': [int(x) for x in np.linspace(50,120, num = 8)],\n",
    "                'learning_rate':np.logspace(-2,-4,3),\n",
    "                'max_depth': [int(y) for y in np.linspace(2, 5, num = 4)]\n",
    "              }\n",
    "\n",
    "xgb_clf_avgw2v=xgb.XGBClassifier()\n",
    "rscv_xgb_avgw2v=RandomizedSearchCV(xgb_clf_avgw2v, param_distributions=random_dist,n_jobs=-1)\n",
    "rscv_xgb_avgw2v.fit(sent_vec_train, labels_tr)\n"
   ]
  },
  {
   "cell_type": "code",
   "execution_count": 24,
   "metadata": {},
   "outputs": [
    {
     "name": "stdout",
     "output_type": "stream",
     "text": [
      "{'n_estimators': 70, 'max_depth': 5, 'learning_rate': 0.01}\n"
     ]
    }
   ],
   "source": [
    "print(rscv_xgb_avgw2v.best_params_ )"
   ]
  },
  {
   "cell_type": "code",
   "execution_count": 25,
   "metadata": {},
   "outputs": [
    {
     "name": "stdout",
     "output_type": "stream",
     "text": [
      "XGBClassifier(base_score=0.5, booster='gbtree', colsample_bylevel=1,\n",
      "       colsample_bytree=1, gamma=0, learning_rate=0.01, max_delta_step=0,\n",
      "       max_depth=5, min_child_weight=1, missing=None, n_estimators=70,\n",
      "       n_jobs=1, nthread=None, objective='binary:logistic', random_state=0,\n",
      "       reg_alpha=0, reg_lambda=1, scale_pos_weight=1, seed=None,\n",
      "       silent=True, subsample=1)\n"
     ]
    }
   ],
   "source": [
    "print(rscv_xgb_avgw2v.best_estimator_ )"
   ]
  },
  {
   "cell_type": "markdown",
   "metadata": {},
   "source": [
    "<h2> 1.11 Computing Train error</h2>"
   ]
  },
  {
   "cell_type": "code",
   "execution_count": 71,
   "metadata": {},
   "outputs": [
    {
     "name": "stdout",
     "output_type": "stream",
     "text": [
      "\n",
      " Train error is : 0.1397384357030177\n"
     ]
    },
    {
     "name": "stderr",
     "output_type": "stream",
     "text": [
      "C:\\Users\\Ashish\\Anaconda3\\lib\\site-packages\\sklearn\\preprocessing\\label.py:151: DeprecationWarning: The truth value of an empty array is ambiguous. Returning False, but in future this will result in an error. Use `array.size > 0` to check that an array is not empty.\n",
      "  if diff:\n"
     ]
    }
   ],
   "source": [
    "#calculating train error\n",
    "xgb_clf = xgb.XGBClassifier(n_estimators=70, learning_rate = 0.01, max_depth= 5,n_jobs=-1)\n",
    "xgb_model = xgb_clf.fit(sent_vec_train, labels_tr)\n",
    "y_pred_tr = xgb_clf.predict(sent_vec_train)\n",
    "acc_tr = accuracy_score(labels_tr, y_pred_tr)\n",
    "train_error = 1-acc_tr\n",
    "print('\\n Train error is : {}'.format(train_error))"
   ]
  },
  {
   "cell_type": "markdown",
   "metadata": {},
   "source": [
    "<h2> 1.12 Computing Test error</h2>"
   ]
  },
  {
   "cell_type": "code",
   "execution_count": 72,
   "metadata": {},
   "outputs": [
    {
     "name": "stdout",
     "output_type": "stream",
     "text": [
      "\n",
      " Test error is : 0.17337608360052248\n"
     ]
    },
    {
     "name": "stderr",
     "output_type": "stream",
     "text": [
      "C:\\Users\\Ashish\\Anaconda3\\lib\\site-packages\\sklearn\\preprocessing\\label.py:151: DeprecationWarning: The truth value of an empty array is ambiguous. Returning False, but in future this will result in an error. Use `array.size > 0` to check that an array is not empty.\n",
      "  if diff:\n"
     ]
    }
   ],
   "source": [
    "#calculating test error\n",
    "xgb_clf = xgb.XGBClassifier(n_estimators=70, learning_rate = 0.01, max_depth= 5,n_jobs=-1)\n",
    "xgb_model = xgb_clf.fit(sent_vec_train, labels_tr)\n",
    "y_pred_ts = xgb_clf.predict(sent_vectors_ts)\n",
    "acc_ts = accuracy_score(labels_ts, y_pred_ts)\n",
    "test_error = 1-acc_ts\n",
    "print('\\n Test error is : {}'.format(test_error))\n"
   ]
  },
  {
   "cell_type": "markdown",
   "metadata": {},
   "source": [
    "<h2>1.13 Acurracy of the model </h2>"
   ]
  },
  {
   "cell_type": "code",
   "execution_count": 81,
   "metadata": {},
   "outputs": [
    {
     "name": "stdout",
     "output_type": "stream",
     "text": [
      "\n",
      " Acurracy of the model is : 0.8266239163994775\n"
     ]
    }
   ],
   "source": [
    "print('\\n Acurracy of the model is : {}'.format(acc_ts))"
   ]
  },
  {
   "cell_type": "markdown",
   "metadata": {},
   "source": [
    "<h2>1.14 Plotting confusion matrix</h2>"
   ]
  },
  {
   "cell_type": "code",
   "execution_count": 73,
   "metadata": {},
   "outputs": [
    {
     "name": "stdout",
     "output_type": "stream",
     "text": [
      "-------------------- Confusion matrix --------------------\n"
     ]
    },
    {
     "name": "stderr",
     "output_type": "stream",
     "text": [
      "C:\\Users\\Ashish\\Anaconda3\\lib\\site-packages\\sklearn\\preprocessing\\label.py:151: DeprecationWarning: The truth value of an empty array is ambiguous. Returning False, but in future this will result in an error. Use `array.size > 0` to check that an array is not empty.\n",
      "  if diff:\n"
     ]
    },
    {
     "data": {
      "image/png": "[encoded data removed]",
      "text/plain": [
       "<matplotlib.figure.Figure at 0x1ab4ca3ef98>"
      ]
     },
     "metadata": {},
     "output_type": "display_data"
    }
   ],
   "source": [
    "xgb_clf = xgb.XGBClassifier(n_estimators=70, learning_rate = 0.01, max_depth= 5,n_jobs=-1)\n",
    "y_pred = xgb_clf.fit(sent_vec_train, labels_tr).predict(sent_vectors_ts)\n",
    "\n",
    "C = confusion_matrix(labels_ts, y_pred)\n",
    "labels = [0,1] #label 0 means they are negative reviews\n",
    "#label 1 means they are positive reviews\n",
    "\n",
    "print(\"-\"*20, \"Confusion matrix\", \"-\"*20)\n",
    "sns.heatmap(C, annot=True, cmap=\"YlGnBu\", fmt=\".3f\", xticklabels=labels, yticklabels=labels)\n",
    "plt.xlabel('Predicted Class')\n",
    "plt.ylabel('Original Class')\n",
    "plt.show()\n"
   ]
  },
  {
   "cell_type": "markdown",
   "metadata": {},
   "source": [
    "<b>Observation(s):--</b>\n",
    "1. Points that are predicted by Xgboost model as class 0 from them 1 points are actually of class 0 and 0 points are of class 1.\n",
    "\n",
    "2. Points that are predicted by Random Forest model as class 1 from them 6960 points are actually of class 1 and 1460 points are of class 0."
   ]
  },
  {
   "cell_type": "markdown",
   "metadata": {},
   "source": [
    "# (2) TF-IDF Weighted Word2Vec"
   ]
  },
  {
   "cell_type": "markdown",
   "metadata": {},
   "source": [
    "<h2>2.1 Computing tfidf weighted word2vec for train data</h2>"
   ]
  },
  {
   "cell_type": "code",
   "execution_count": 43,
   "metadata": {},
   "outputs": [
    {
     "name": "stdout",
     "output_type": "stream",
     "text": [
      "<class 'scipy.sparse.csr.csr_matrix'>\n",
      "(19651, 26832)\n"
     ]
    }
   ],
   "source": [
    "#tf-idf weighted w2v for train data\n",
    "\n",
    "from sklearn.feature_extraction.text import TfidfVectorizer\n",
    "\n",
    "tfidfw2v_vect_tr = TfidfVectorizer()\n",
    "final_counts_tfidfw2v_tr= tfidfw2v_vect_tr.fit_transform(tr['Text'].values) \n",
    "print(type(final_counts_tfidfw2v_tr))\n",
    "print(final_counts_tfidfw2v_tr.shape)"
   ]
  },
  {
   "cell_type": "code",
   "execution_count": 44,
   "metadata": {},
   "outputs": [
    {
     "name": "stdout",
     "output_type": "stream",
     "text": [
      "(19651,)\n",
      "(8421,)\n"
     ]
    }
   ],
   "source": [
    "labels_tfidfw2v_tr=sorted_Time_data['Score'].head(int(n*0.7)+1) #class_labels for train data\n",
    "labels_tfidfw2v_ts=sorted_Time_data['Score'].tail(int(n*0.3)) #class_labels for test data\n",
    "print(labels_tfidfw2v_tr.shape)\n",
    "print(labels_tfidfw2v_ts.shape)"
   ]
  },
  {
   "cell_type": "code",
   "execution_count": 45,
   "metadata": {},
   "outputs": [],
   "source": [
    "t_tr=tfidfw2v_vect_tr.get_feature_names()\n",
    "t1_tr=list()\n",
    "ro=0\n",
    "for sen in list_sent_tr:\n",
    "    revec=np.zeros(50)\n",
    "    wrsu=0\n",
    "    for wro in sen:\n",
    "        try:\n",
    "            wve=w2vmodel_tr.wv[wro]\n",
    "            tfv=final_counts_tfidfw2v_tr[ro,t_tr.index(wro)]\n",
    "            revec += (wve*tfv)\n",
    "            wrsu += tfv\n",
    "        except:\n",
    "            pass\n",
    "    revec /= wrsu\n",
    "    t1_tr.append(revec)\n",
    "    ro += 1"
   ]
  },
  {
   "cell_type": "markdown",
   "metadata": {},
   "source": [
    "<h2>2.2 Computing tfidf weighted word2vec for Test data</h2>"
   ]
  },
  {
   "cell_type": "code",
   "execution_count": 46,
   "metadata": {},
   "outputs": [
    {
     "name": "stdout",
     "output_type": "stream",
     "text": [
      "<class 'scipy.sparse.csr.csr_matrix'>\n",
      "(8421, 17504)\n"
     ]
    }
   ],
   "source": [
    "#tf-idf weighted w2v\n",
    "\n",
    "from sklearn.feature_extraction.text import TfidfVectorizer\n",
    "\n",
    "tfidfw2v_vect_ts = TfidfVectorizer()\n",
    "final_counts_tfidfw2v_ts= tfidfw2v_vect_ts.fit_transform(ts['Text'].values) \n",
    "print(type(final_counts_tfidfw2v_ts))\n",
    "print(final_counts_tfidfw2v_ts.shape)"
   ]
  },
  {
   "cell_type": "code",
   "execution_count": 47,
   "metadata": {},
   "outputs": [],
   "source": [
    "t_ts=tfidfw2v_vect_ts.get_feature_names()\n",
    "t1_ts=list()\n",
    "ro=0\n",
    "for sen in list_of_sent_ts:\n",
    "    revec=np.zeros(50)\n",
    "    wrsu=0\n",
    "    for wro in sen:\n",
    "        try:\n",
    "            wve=w2v_model_ts.wv[wro]\n",
    "            tfv=final_counts_tfidfw2v_ts[ro,t_ts.index(wro)]\n",
    "            revec += (wve*tfv)\n",
    "            wrsu += tfv\n",
    "        except:\n",
    "            pass\n",
    "    revec /= wrsu\n",
    "    t1_ts.append(revec)\n",
    "    ro += 1"
   ]
  },
  {
   "cell_type": "markdown",
   "metadata": {},
   "source": [
    "<h2> Random Forest</h2>"
   ]
  },
  {
   "cell_type": "markdown",
   "metadata": {},
   "source": [
    "<h2>2.3 Random Search on Random Forest Classifier for computing optimal hyperparameter</h2>"
   ]
  },
  {
   "cell_type": "code",
   "execution_count": 37,
   "metadata": {},
   "outputs": [
    {
     "data": {
      "text/plain": [
       "RandomizedSearchCV(cv=None, error_score='raise',\n",
       "          estimator=RandomForestClassifier(bootstrap=True, class_weight=None, criterion='gini',\n",
       "            max_depth=None, max_features='auto', max_leaf_nodes=None,\n",
       "            min_impurity_decrease=0.0, min_impurity_split=None,\n",
       "            min_samples_leaf=1, min_samples_split=2,\n",
       "            min_weight_fraction_leaf=0.0, n_estimators=10, n_jobs=1,\n",
       "            oob_score=False, random_state=None, verbose=0,\n",
       "            warm_start=False),\n",
       "          fit_params=None, iid=True, n_iter=10, n_jobs=-1,\n",
       "          param_distributions={'n_estimators': [200, 400, 600, 800, 1000, 1200, 1400, 1600, 1800, 2000], 'max_features': ['auto', 'sqrt'], 'max_depth': [10, 20, 30, 40, 50, 60, 70, 80, 90, 100, 110], 'min_samples_split': [2, 5, 10], 'min_samples_leaf': [1, 2, 4]},\n",
       "          pre_dispatch='2*n_jobs', random_state=None, refit=True,\n",
       "          return_train_score='warn', scoring=None, verbose=0)"
      ]
     },
     "execution_count": 37,
     "metadata": {},
     "output_type": "execute_result"
    }
   ],
   "source": [
    "\n",
    "random_dist = {\n",
    "              'n_estimators': [int(x) for x in np.linspace(200,2000, num = 10)],\n",
    "               'max_features': ['auto', 'sqrt'],\n",
    "               'max_depth': [int(y) for y in np.linspace(10, 110, num = 11)],\n",
    "               'min_samples_split': [2, 5, 10],\n",
    "               'min_samples_leaf': [1, 2, 4]\n",
    "              }\n",
    "\n",
    "clf_tfidfw2v=RandomForestClassifier()\n",
    "rscv_tfidfw2v=RandomizedSearchCV(clf_tfidfw2v,param_distributions=random_dist,n_jobs=-1)\n",
    "rscv_tfidfw2v.fit(t1_tr, labels_tfidfw2v_tr)\n"
   ]
  },
  {
   "cell_type": "code",
   "execution_count": 38,
   "metadata": {},
   "outputs": [
    {
     "name": "stdout",
     "output_type": "stream",
     "text": [
      "RandomForestClassifier(bootstrap=True, class_weight=None, criterion='gini',\n",
      "            max_depth=100, max_features='sqrt', max_leaf_nodes=None,\n",
      "            min_impurity_decrease=0.0, min_impurity_split=None,\n",
      "            min_samples_leaf=1, min_samples_split=2,\n",
      "            min_weight_fraction_leaf=0.0, n_estimators=2000, n_jobs=1,\n",
      "            oob_score=False, random_state=None, verbose=0,\n",
      "            warm_start=False)\n"
     ]
    }
   ],
   "source": [
    "print(rscv_tfidfw2v.best_estimator_)"
   ]
  },
  {
   "cell_type": "code",
   "execution_count": 39,
   "metadata": {},
   "outputs": [
    {
     "name": "stdout",
     "output_type": "stream",
     "text": [
      "{'n_estimators': 2000, 'min_samples_split': 2, 'min_samples_leaf': 1, 'max_features': 'sqrt', 'max_depth': 100}\n"
     ]
    }
   ],
   "source": [
    "print(rscv_tfidfw2v.best_params_ )"
   ]
  },
  {
   "cell_type": "markdown",
   "metadata": {},
   "source": [
    "<h2>2.4 Computing optimal \"n_estimators\" for 'Xgboost classifier' using 5-fold cross-validation and plotting misclassification error</h2>"
   ]
  },
  {
   "cell_type": "code",
   "execution_count": 48,
   "metadata": {},
   "outputs": [
    {
     "name": "stdout",
     "output_type": "stream",
     "text": [
      "\n",
      "The optimal number of estimators is : 800\n"
     ]
    },
    {
     "data": {
      "image/png": "[encoded data removed]",
      "text/plain": [
       "<matplotlib.figure.Figure at 0x1ab3a4c2160>"
      ]
     },
     "metadata": {},
     "output_type": "display_data"
    },
    {
     "name": "stdout",
     "output_type": "stream",
     "text": [
      "the misclassification error for each estimators is :  [0.145 0.145 0.145 0.144 0.145 0.145 0.145 0.145 0.145 0.145]\n"
     ]
    }
   ],
   "source": [
    "\n",
    "# creating list of number of estimators for random forest\n",
    "n_estimators_list= list(int(x) for x in np.linspace(200,2000, num = 10))\n",
    "\n",
    "# empty list that will hold cv scores\n",
    "cv_scores = []\n",
    "\n",
    "# perform 10-fold cross validation\n",
    "for esti in n_estimators_list:\n",
    "    RF_clf = RandomForestClassifier(n_estimators=esti, min_samples_split= 2, min_samples_leaf= 1, max_features= 'sqrt', max_depth= 100,n_jobs=-1)\n",
    "    scores = cross_val_score(RF_clf, t1_tr, labels_tfidfw2v_tr, cv=5, scoring='accuracy')\n",
    "    cv_scores.append(scores.mean())\n",
    "\n",
    "# changing to misclassification error\n",
    "MSE = [1 - x for x in cv_scores]\n",
    "\n",
    "# determining best max_depth\n",
    "optimal_n_estimators = n_estimators_list[MSE.index(min(MSE))]\n",
    "print('\\nThe optimal number of estimators is : {}'.format(optimal_n_estimators))\n",
    "\n",
    "# plot misclassification error vs number of estimators \n",
    "plt.plot(n_estimators_list, MSE)\n",
    "\n",
    "for xy in zip(n_estimators_list, np.round(MSE,3)):\n",
    "    plt.annotate('(%s, %s)' % xy, xy=xy, textcoords='data')\n",
    "\n",
    "plt.xlabel('Number of Estimators')\n",
    "plt.ylabel('Misclassification Error')\n",
    "plt.show()\n",
    "\n",
    "print(\"the misclassification error for each estimators is : \", np.round(MSE,3))"
   ]
  },
  {
   "cell_type": "markdown",
   "metadata": {},
   "source": [
    "<h2> 2.5 Computing Train error </h2>"
   ]
  },
  {
   "cell_type": "code",
   "execution_count": 49,
   "metadata": {},
   "outputs": [
    {
     "name": "stdout",
     "output_type": "stream",
     "text": [
      "\n",
      " Train error is : 0.0\n"
     ]
    }
   ],
   "source": [
    "#calculating train error\n",
    "RF_clf = RandomForestClassifier(n_estimators=800, min_samples_split= 2, min_samples_leaf= 1, max_features= 'sqrt', max_depth= 100,n_jobs=-1)\n",
    "RF_model = RF_clf.fit(t1_tr, labels_tfidfw2v_tr)\n",
    "y_pred_tr = RF_clf.predict(t1_tr)\n",
    "acc_tr = accuracy_score(labels_tfidfw2v_tr, y_pred_tr)\n",
    "train_error = 1-acc_tr\n",
    "print('\\n Train error is : {}'.format(train_error))"
   ]
  },
  {
   "cell_type": "markdown",
   "metadata": {},
   "source": [
    "<h2> 2.6 Computing Test error </h2>"
   ]
  },
  {
   "cell_type": "code",
   "execution_count": 50,
   "metadata": {},
   "outputs": [
    {
     "name": "stdout",
     "output_type": "stream",
     "text": [
      "\n",
      " Test error is : 0.17301983137394605\n"
     ]
    }
   ],
   "source": [
    "#calculating test error\n",
    "RF_clf = RandomForestClassifier(n_estimators=800, min_samples_split= 2, min_samples_leaf= 1, max_features= 'sqrt', max_depth= 100,n_jobs=-1)\n",
    "RF_model = RF_clf.fit(t1_tr, labels_tfidfw2v_tr)\n",
    "y_pred_ts = RF_clf.predict(t1_ts)\n",
    "acc_ts = accuracy_score(labels_tfidfw2v_ts, y_pred_ts)\n",
    "test_error = 1-acc_ts\n",
    "print('\\n Test error is : {}'.format(test_error))\n"
   ]
  },
  {
   "cell_type": "markdown",
   "metadata": {},
   "source": [
    "<h2>2.7 Accuracy of the model</h2>"
   ]
  },
  {
   "cell_type": "code",
   "execution_count": 82,
   "metadata": {},
   "outputs": [
    {
     "name": "stdout",
     "output_type": "stream",
     "text": [
      "\n",
      " Accuracy of the model is : 0.8266239163994775\n"
     ]
    }
   ],
   "source": [
    "print('\\n Accuracy of the model is : {}'.format(acc_ts))"
   ]
  },
  {
   "cell_type": "markdown",
   "metadata": {},
   "source": [
    "<h2> 2.8 Plotting confusion matrix </h2>"
   ]
  },
  {
   "cell_type": "code",
   "execution_count": 51,
   "metadata": {},
   "outputs": [
    {
     "name": "stdout",
     "output_type": "stream",
     "text": [
      "-------------------- Confusion matrix --------------------\n"
     ]
    },
    {
     "data": {
      "image/png": "[encoded data removed]",
      "text/plain": [
       "<matplotlib.figure.Figure at 0x1ab35755ba8>"
      ]
     },
     "metadata": {},
     "output_type": "display_data"
    }
   ],
   "source": [
    "RF_clf = RandomForestClassifier(n_estimators=800, min_samples_split= 2, min_samples_leaf= 1, max_features= 'sqrt', max_depth= 100,n_jobs=-1)\n",
    "y_pred_RF = RF_clf.fit(t1_tr, labels_tfidfw2v_tr).predict(t1_ts)\n",
    "\n",
    "C = confusion_matrix(labels_tfidfw2v_ts, y_pred_RF)\n",
    "labels = [0,1] #label 0 means they are negative reviews\n",
    "#label 1 means they are positive reviews\n",
    "\n",
    "print(\"-\"*20, \"Confusion matrix\", \"-\"*20)\n",
    "sns.heatmap(C, annot=True, cmap=\"YlGnBu\", fmt=\".3f\", xticklabels=labels, yticklabels=labels)\n",
    "plt.xlabel('Predicted Class')\n",
    "plt.ylabel('Original Class')\n",
    "plt.show()"
   ]
  },
  {
   "cell_type": "markdown",
   "metadata": {},
   "source": [
    "<b>Observation(s):--</b>\n",
    "1. Points that are predicted by Random Forest model as class 0 from them 2 points are actually of class 0 and 1 points are of class 1.\n",
    "\n",
    "2. Points that are predicted by Random Forest model as class 1 from them 6959 points are actually of class 1 and 1459 points are of class 0."
   ]
  },
  {
   "cell_type": "markdown",
   "metadata": {},
   "source": [
    "<h2>Xgboost</h2>"
   ]
  },
  {
   "cell_type": "markdown",
   "metadata": {},
   "source": [
    "<h2>2.8 Random Search on Xgboost Classifier for computing optimal hyperparameter</h2>"
   ]
  },
  {
   "cell_type": "code",
   "execution_count": 75,
   "metadata": {},
   "outputs": [
    {
     "data": {
      "text/plain": [
       "RandomizedSearchCV(cv=None, error_score='raise',\n",
       "          estimator=XGBClassifier(base_score=0.5, booster='gbtree', colsample_bylevel=1,\n",
       "       colsample_bytree=1, gamma=0, learning_rate=0.1, max_delta_step=0,\n",
       "       max_depth=3, min_child_weight=1, missing=None, n_estimators=100,\n",
       "       n_jobs=1, nthread=None, objective='binary:logistic', random_state=0,\n",
       "       reg_alpha=0, reg_lambda=1, scale_pos_weight=1, seed=None,\n",
       "       silent=True, subsample=1),\n",
       "          fit_params=None, iid=True, n_iter=10, n_jobs=-1,\n",
       "          param_distributions={'n_estimators': [50, 60, 70, 80, 90, 100, 110, 120], 'learning_rate': array([0.01  , 0.001 , 0.0001]), 'max_depth': [2, 3, 4, 5]},\n",
       "          pre_dispatch='2*n_jobs', random_state=None, refit=True,\n",
       "          return_train_score='warn', scoring=None, verbose=0)"
      ]
     },
     "execution_count": 75,
     "metadata": {},
     "output_type": "execute_result"
    }
   ],
   "source": [
    "t1_train = np.array(t1_tr)\n",
    "\n",
    "random_dist = {\n",
    "              'n_estimators': [int(x) for x in np.linspace(50,120, num = 8)],\n",
    "                'learning_rate':np.logspace(-2,-4,3),\n",
    "                'max_depth': [int(y) for y in np.linspace(2, 5, num = 4)]\n",
    "              }\n",
    "\n",
    "xgb_clf_tfidfw2v=xgb.XGBClassifier()\n",
    "rscv_xgb_tfidfw2v=RandomizedSearchCV(xgb_clf_tfidfw2v,param_distributions=random_dist,n_jobs=-1)\n",
    "rscv_xgb_tfidfw2v.fit(t1_train, labels_tfidfw2v_tr)\n"
   ]
  },
  {
   "cell_type": "code",
   "execution_count": 76,
   "metadata": {},
   "outputs": [
    {
     "name": "stdout",
     "output_type": "stream",
     "text": [
      "XGBClassifier(base_score=0.5, booster='gbtree', colsample_bylevel=1,\n",
      "       colsample_bytree=1, gamma=0, learning_rate=0.01, max_delta_step=0,\n",
      "       max_depth=5, min_child_weight=1, missing=None, n_estimators=100,\n",
      "       n_jobs=1, nthread=None, objective='binary:logistic', random_state=0,\n",
      "       reg_alpha=0, reg_lambda=1, scale_pos_weight=1, seed=None,\n",
      "       silent=True, subsample=1)\n"
     ]
    }
   ],
   "source": [
    "print(rscv_xgb_tfidfw2v.best_estimator_)"
   ]
  },
  {
   "cell_type": "code",
   "execution_count": 77,
   "metadata": {},
   "outputs": [
    {
     "name": "stdout",
     "output_type": "stream",
     "text": [
      "{'n_estimators': 100, 'max_depth': 5, 'learning_rate': 0.01}\n"
     ]
    }
   ],
   "source": [
    "print(rscv_xgb_tfidfw2v.best_params_ )"
   ]
  },
  {
   "cell_type": "markdown",
   "metadata": {},
   "source": [
    "<h2> 2.9 Computing Train error </h2>"
   ]
  },
  {
   "cell_type": "code",
   "execution_count": 78,
   "metadata": {},
   "outputs": [
    {
     "name": "stdout",
     "output_type": "stream",
     "text": [
      "\n",
      " Train error is : 0.14228283547911047\n"
     ]
    },
    {
     "name": "stderr",
     "output_type": "stream",
     "text": [
      "C:\\Users\\Ashish\\Anaconda3\\lib\\site-packages\\sklearn\\preprocessing\\label.py:151: DeprecationWarning: The truth value of an empty array is ambiguous. Returning False, but in future this will result in an error. Use `array.size > 0` to check that an array is not empty.\n",
      "  if diff:\n"
     ]
    }
   ],
   "source": [
    "#calculating train error\n",
    "xgb_clf = xgb.XGBClassifier(n_estimators=100, learning_rate = 0.01, max_depth= 5,n_jobs=-1)\n",
    "xgb_model = xgb_clf.fit(t1_train, labels_tfidfw2v_tr)\n",
    "y_pred_tr = xgb_clf.predict(t1_tr)\n",
    "acc_tr = accuracy_score(labels_tfidfw2v_tr, y_pred_tr)\n",
    "train_error = 1-acc_tr\n",
    "print('\\n Train error is : {}'.format(train_error))"
   ]
  },
  {
   "cell_type": "markdown",
   "metadata": {},
   "source": [
    "<h2> 2.10 Computing Test error </h2>"
   ]
  },
  {
   "cell_type": "code",
   "execution_count": 84,
   "metadata": {},
   "outputs": [
    {
     "name": "stdout",
     "output_type": "stream",
     "text": [
      "\n",
      " Test error is : 0.17337608360052248\n"
     ]
    },
    {
     "name": "stderr",
     "output_type": "stream",
     "text": [
      "C:\\Users\\Ashish\\Anaconda3\\lib\\site-packages\\sklearn\\preprocessing\\label.py:151: DeprecationWarning: The truth value of an empty array is ambiguous. Returning False, but in future this will result in an error. Use `array.size > 0` to check that an array is not empty.\n",
      "  if diff:\n"
     ]
    }
   ],
   "source": [
    "#calculating test error\n",
    "xgb_clf = xgb.XGBClassifier(n_estimators=100, learning_rate = 0.01, max_depth= 5,n_jobs=-1)\n",
    "xgb_model = xgb_clf.fit(t1_train, labels_tfidfw2v_tr)\n",
    "y_pred_ts = xgb_clf.predict(t1_ts)\n",
    "acc_ts = accuracy_score(labels_tfidfw2v_ts, y_pred_ts)\n",
    "test_error = 1-acc_ts\n",
    "print('\\n Test error is : {}'.format(test_error))\n"
   ]
  },
  {
   "cell_type": "markdown",
   "metadata": {},
   "source": [
    "<h2>2.11 Acuracy of the model </h2>"
   ]
  },
  {
   "cell_type": "code",
   "execution_count": 85,
   "metadata": {},
   "outputs": [
    {
     "name": "stdout",
     "output_type": "stream",
     "text": [
      "\n",
      " Accuracy of the model is : 0.8266239163994775\n"
     ]
    }
   ],
   "source": [
    "print('\\n Accuracy of the model is : {}'.format(acc_ts))"
   ]
  },
  {
   "cell_type": "markdown",
   "metadata": {},
   "source": [
    "<h2> 2.11 Plotting confusion matrix </h2>"
   ]
  },
  {
   "cell_type": "code",
   "execution_count": 80,
   "metadata": {},
   "outputs": [
    {
     "name": "stderr",
     "output_type": "stream",
     "text": [
      "C:\\Users\\Ashish\\Anaconda3\\lib\\site-packages\\sklearn\\preprocessing\\label.py:151: DeprecationWarning: The truth value of an empty array is ambiguous. Returning False, but in future this will result in an error. Use `array.size > 0` to check that an array is not empty.\n",
      "  if diff:\n"
     ]
    },
    {
     "name": "stdout",
     "output_type": "stream",
     "text": [
      "-------------------- Confusion matrix --------------------\n"
     ]
    },
    {
     "data": {
      "image/png": "[encoded data removed]",
      "text/plain": [
       "<matplotlib.figure.Figure at 0x1ab4cf30a20>"
      ]
     },
     "metadata": {},
     "output_type": "display_data"
    }
   ],
   "source": [
    "xgb_clf = xgb.XGBClassifier(n_estimators=100, learning_rate = 0.01, max_depth= 5,n_jobs=-1)\n",
    "y_pred_xgb = xgb_clf.fit(t1_train, labels_tfidfw2v_tr).predict(t1_ts)\n",
    "\n",
    "C = confusion_matrix(labels_tfidfw2v_ts, y_pred_xgb)\n",
    "labels = [0,1] #label 0 means they are negative reviews\n",
    "#label 1 means they are positive reviews\n",
    "\n",
    "print(\"-\"*20, \"Confusion matrix\", \"-\"*20)\n",
    "sns.heatmap(C, annot=True, cmap=\"YlGnBu\", fmt=\".3f\", xticklabels=labels, yticklabels=labels)\n",
    "plt.xlabel('Predicted Class')\n",
    "plt.ylabel('Original Class')\n",
    "plt.show()"
   ]
  },
  {
   "cell_type": "markdown",
   "metadata": {},
   "source": [
    "<b>Observation(s):--</b>\n",
    "1. Points that are predicted by Xgboost model as class 0 from them 1 points are actually of class 0 and 0 points are of class 1.\n",
    "\n",
    "2. Points that are predicted by Xgboost model as class 1 from them 6960 points are actually of class 1 and 1460 points are of class 0."
   ]
  },
  {
   "cell_type": "markdown",
   "metadata": {},
   "source": [
    "\n",
    "<html>\n",
    "<head>\n",
    "<style>\n",
    "table, th, td {\n",
    "    border: 1px solid black;\n",
    "    border-collapse: collapse;\n",
    "}\n",
    "th, td {\n",
    "    padding: 25px;\n",
    "    text-align: left;\n",
    "}\n",
    "\n",
    "</style>\n",
    "</head>\n",
    "<body>\n",
    "\n",
    "<h2>Summary</h2>\n",
    "<table style=\"width:100%\">\n",
    "  <tr>\n",
    "    <th>Model</th>\n",
    "    <th>Best Hyperparameter</th> \n",
    "    <th>Train error</th>\n",
    "    <th>Test error</th>\n",
    "  </tr>\n",
    "  <tr>\n",
    "    <td>Random Forest + avgw2v</td>\n",
    "      <td>'n_estimators': 800, 'min_samples_split': 5, 'min_samples_leaf': 1, 'max_features': 'auto', 'max_depth': 70</td>\n",
    "    <td>5.088799552188661e-05</td>\n",
    "    <td>0.17337608360052248</td>\n",
    "  </tr>\n",
    "  <tr>\n",
    "    <td>Xgboost + avgw2v</td>\n",
    "    <td>'n_estimators': 70, 'max_depth': 5, 'learning_rate': 0.01</td>\n",
    "    <td>0.1397384357030177</td>\n",
    "    <td>0.17337608360052248</td>\n",
    "  </tr>\n",
    " <tr>\n",
    "    <td>Random Forest + tfidfw2v</td>\n",
    "    <td>'n_estimators': 800, 'min_samples_split': 2, 'min_samples_leaf': 1, 'max_features': 'sqrt', 'max_depth': 100</td>\n",
    "    <td>0.0</td>\n",
    "    <td> 0.17301983137394605</td>\n",
    "  </tr>\n",
    " <tr>\n",
    "    <td>Xgboost + tfidfw2v</td>\n",
    "    <td>'C': 1, 'gamma': 0.001, 'kernel': 'rbf'</td>\n",
    "    <td>0.15291842654317844</td>\n",
    "    <td>0.17349483434271462</td>\n",
    "  </tr>\n",
    "</table>\n",
    "\n",
    "</body>\n",
    "</html>\n"
   ]
  },
  {
   "cell_type": "code",
   "execution_count": null,
   "metadata": {},
   "outputs": [],
   "source": []
  }
 ],
 "metadata": {
  "kernelspec": {
   "display_name": "Python 3",
   "language": "python",
   "name": "python3"
  },
  "language_info": {
   "codemirror_mode": {
    "name": "ipython",
    "version": 3
   },
   "file_extension": ".py",
   "mimetype": "text/x-python",
   "name": "python",
   "nbconvert_exporter": "python",
   "pygments_lexer": "ipython3",
   "version": "3.6.4"
  }
 },
 "nbformat": 4,
 "nbformat_minor": 2
}
