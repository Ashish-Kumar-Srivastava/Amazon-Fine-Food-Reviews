{
 "cells": [
  {
   "cell_type": "markdown",
   "metadata": {},
   "source": [
    "# Decision Tree model on Amazon Fine Food Reviews dataset\n",
    "\n",
    "The Amazon Fine Food Reviews dataset consists of reviews of fine foods from Amazon.\n",
    "\n",
    "Number of reviews: 568,454\n",
    "Number of users: 256,059\n",
    "Number of products: 74,258\n",
    "Timespan: Oct 1999 - Oct 2012\n",
    "Number of Attributes/Columns in data: 10\n",
    "\n",
    "Attribute Information:\n",
    "\n",
    "1. Id\n",
    "2. ProductId - unique identifier for the product\n",
    "3. UserId - unqiue identifier for the user\n",
    "4. ProfileName\n",
    "5. HelpfulnessNumerator - number of users who found the review helpful\n",
    "6. HelpfulnessDenominator - number of users who indicated whether they found the review helpful or not\n",
    "7. Score - rating between 1 and 5\n",
    "8. Time - timestamp for the review\n",
    "9. Summary - brief summary of the review\n",
    "10. Text - text of the review\n",
    "\n",
    "#### Objective:\n",
    "Classification of Amazon reviews with polarity based color-coding (that means predicting wheater review is positive or not)"
   ]
  },
  {
   "cell_type": "markdown",
   "metadata": {},
   "source": [
    "# Loading the data\n",
    "\n",
    "The dataset is available in two forms\n",
    "1. .csv file\n",
    "2. SQLite Database\n",
    "\n",
    "In order to load the data, We have used the SQLITE dataset as it easier to query the data and visualise the data efficiently.\n",
    "<br> "
   ]
  },
  {
   "cell_type": "code",
   "execution_count": 1,
   "metadata": {},
   "outputs": [],
   "source": [
    "\n",
    "import sqlite3\n",
    "import pandas as pd\n",
    "import numpy as np\n",
    "import matplotlib.pyplot as plt\n",
    "\n",
    "con = sqlite3.connect('database.sqlite') #connecting to 'database.sqlite' and reading data from it \n",
    "\n",
    "filter_amz_data = pd.read_sql_query(\"\"\" \n",
    "SELECT *\n",
    "FROM Reviews\n",
    "WHERE Score != 3\n",
    "\"\"\", con) # taking only those reviews having score greater than 3(4,5) and less than 3(1,2) not taking reviews of score 3\n",
    "\n",
    "\n",
    "def partition_positive_negative(x): # Give reviews with Score>3 a positive rating, and reviews with a score<3 a negative rating.\n",
    "    if x < 3:\n",
    "        return 0\n",
    "    return 1\n",
    "\n",
    "#changing reviews with score less than 3 to be positive and vice-versa\n",
    "actualScore = filter_amz_data['Score']\n",
    "positiveNegative = actualScore.map(partition_positive_negative) #map() will maps inputs of 'actualscore' using function partition\n",
    "filter_amz_data['Score'] = positiveNegative"
   ]
  },
  {
   "cell_type": "code",
   "execution_count": 2,
   "metadata": {},
   "outputs": [],
   "source": [
    "sample_amz_data = filter_amz_data.head(30000) #Sampled amazon fine foood reviews filtered data to 15k datapoints for time effiecieny"
   ]
  },
  {
   "cell_type": "markdown",
   "metadata": {},
   "source": [
    "#  Exploratory Data Analysis\n",
    "\n",
    "## [7.1.2] Data Cleaning: Deduplication\n"
   ]
  },
  {
   "cell_type": "code",
   "execution_count": 3,
   "metadata": {},
   "outputs": [],
   "source": [
    "#Sorting data according to ProductId in ascending order; sorting is necessary because if duplicates entries are there than we want to have only one of it and that we get from first entry of duplicates entries after sorting\n",
    "\n",
    "sorted_data = sample_amz_data.sort_values('ProductId', axis=0, ascending=True, inplace=False, kind='quicksort', na_position='last')"
   ]
  },
  {
   "cell_type": "markdown",
   "metadata": {},
   "source": [
    "**sorting is necessary because if duplicates entries are there than we want to have only one of it and that we get from first entry of duplicates entries after sorting**"
   ]
  },
  {
   "cell_type": "code",
   "execution_count": 4,
   "metadata": {},
   "outputs": [
    {
     "name": "stdout",
     "output_type": "stream",
     "text": [
      "(30000, 10)\n",
      "(28072, 10)\n"
     ]
    }
   ],
   "source": [
    "#Deduplication of entries\n",
    "\n",
    "final = sorted_data.drop_duplicates(subset={\"UserId\",\"ProfileName\",\"Time\",\"Text\"}, keep='first', inplace=False)\n",
    "print(sorted_data.shape) \n",
    "print(final.shape)"
   ]
  },
  {
   "cell_type": "markdown",
   "metadata": {},
   "source": [
    "**As we can see that in sorted_data there are 15k points but now after removing duplicates entries we git some 14k points**"
   ]
  },
  {
   "cell_type": "code",
   "execution_count": 5,
   "metadata": {},
   "outputs": [],
   "source": [
    "final=final[final.HelpfulnessNumerator<=final.HelpfulnessDenominator]\n",
    "# It was also seen that in two rows given below the value of HelpfulnessNumerator is greater than HelpfulnessDenominator \n",
    "#which is not practically possible hence these two rows too are removed from calcualtions"
   ]
  },
  {
   "cell_type": "code",
   "execution_count": 6,
   "metadata": {},
   "outputs": [
    {
     "name": "stdout",
     "output_type": "stream",
     "text": [
      "(28072, 10)\n"
     ]
    },
    {
     "data": {
      "text/plain": [
       "1    23606\n",
       "0     4466\n",
       "Name: Score, dtype: int64"
      ]
     },
     "execution_count": 6,
     "metadata": {},
     "output_type": "execute_result"
    }
   ],
   "source": [
    "#Before starting the next phase of preprocessing lets see the number of entries left\n",
    "print(final.shape)\n",
    "\n",
    "#How many positive and negative reviews are present in our dataset?\n",
    "final['Score'].value_counts()"
   ]
  },
  {
   "cell_type": "markdown",
   "metadata": {},
   "source": [
    "##  Text Preprocessing: Stemming, stop-word removal and Lemmatization.\n",
    "\n",
    "Now that we have finished deduplication our data requires some preprocessing before we go on further with analysis and making the prediction model.\n",
    "\n",
    "Hence in the Preprocessing phase we do the following in the order below:-\n",
    "\n",
    "1. Begin by removing the html tags\n",
    "2. Remove any punctuations or limited set of special characters like , or . or # etc.\n",
    "3. Check if the word is made up of english letters and is not alpha-numeric\n",
    "4. Check to see if the length of the word is greater than 2 (as it was researched that there is no adjective in 2-letters)\n",
    "5. Convert the word to lowercase\n",
    "6. Remove Stopwords\n",
    "7. Finally Snowball Stemming the word (it was obsereved to be better than Porter Stemming)<br>\n",
    "\n",
    "After which we collect the words used to describe positive and negative reviews"
   ]
  },
  {
   "cell_type": "code",
   "execution_count": 7,
   "metadata": {},
   "outputs": [],
   "source": [
    "import re\n",
    "import nltk\n",
    "import string\n",
    "from nltk.corpus import stopwords # nltk- natural language processing toolkit\n",
    "from nltk.stem import PorterStemmer\n",
    "from nltk.stem.wordnet import WordNetLemmatizer\n",
    "\n",
    "stop = set(stopwords.words('english')) #set of stopwords\n",
    "sno = nltk.stem.SnowballStemmer('english') #initialising the snowball stemmer\n",
    "\n",
    "def cleanhtml(sentence): #function to clean the word of any html-tags\n",
    "    cleanr = re.compile('<.*?>')\n",
    "    cleantext = re.sub(cleanr, ' ', sentence)\n",
    "    return cleantext\n",
    "def cleanpunc(sentence): #function to clean the word of any punctuation or special characters\n",
    "    cleaned = re.sub(r'[?|!|\\'|\"|#]',r'',sentence)\n",
    "    cleaned = re.sub(r'[.|,|)|(|\\|/]',r' ',cleaned)\n",
    "    return  cleaned"
   ]
  },
  {
   "cell_type": "code",
   "execution_count": 8,
   "metadata": {},
   "outputs": [],
   "source": [
    "#Code for implementing step-by-step the checks mentioned in the pre-processing phase\n",
    "\n",
    "i=0\n",
    "str1=' '\n",
    "final_string=[]\n",
    "s=''\n",
    "for sent in final['Text'].values: #taking each reviews\n",
    "    filtered_sentence=[]\n",
    "    sent=cleanhtml(sent) # remove HTMl tags\n",
    "    for w in sent.split(): # taking each words of each reviews\n",
    "        for cleaned_words in cleanpunc(w).split(): #cleanpunc(w) will remove any punctuations/special symbols from each word\n",
    "            if((cleaned_words.isalpha()) & (len(cleaned_words)>2)):   #checking word should be only have alphabets not aplha-numeric/numeric and all words should have length >2 \n",
    "                if(cleaned_words.lower() not in stop):\n",
    "                    s=(sno.stem(cleaned_words.lower())).encode('utf8') #returing each word to be in lower case\n",
    "                    filtered_sentence.append(s) # appending each filtered word of reviews to the list\n",
    "                else:\n",
    "                    continue\n",
    "            else:\n",
    "                continue \n",
    "    str1 = b\" \".join(filtered_sentence) #final string of cleaned words\n",
    "    final_string.append(str1)\n",
    "    i+=1"
   ]
  },
  {
   "cell_type": "code",
   "execution_count": 9,
   "metadata": {},
   "outputs": [],
   "source": [
    "final['CleanedText']=final_string #adding a column of CleanedText which displays the data after pre-processing of the review "
   ]
  },
  {
   "cell_type": "markdown",
   "metadata": {},
   "source": [
    "<h2>Sorting dataset based on 'Time' feature</h2>"
   ]
  },
  {
   "cell_type": "code",
   "execution_count": 10,
   "metadata": {},
   "outputs": [],
   "source": [
    "sorted_Time_data = final.sort_values('Time', axis=0, ascending=True, inplace=False, kind='quicksort', na_position='last')\n"
   ]
  },
  {
   "cell_type": "markdown",
   "metadata": {},
   "source": [
    "<h1>Techniques for Vectorization/Featurization Text data :--</h1>"
   ]
  },
  {
   "cell_type": "code",
   "execution_count": 12,
   "metadata": {},
   "outputs": [],
   "source": [
    "import numpy as np\n",
    "import gensim\n",
    "import pandas as pd\n",
    "import matplotlib.pyplot as plt\n",
    "from sklearn.model_selection import train_test_split\n",
    "from sklearn.metrics import accuracy_score\n",
    "from sklearn.cross_validation import cross_val_score\n",
    "from sklearn import cross_validation\n",
    "from sklearn import tree\n",
    "from sklearn.model_selection import GridSearchCV"
   ]
  },
  {
   "cell_type": "markdown",
   "metadata": {},
   "source": [
    "# (1) Average word2vec"
   ]
  },
  {
   "cell_type": "markdown",
   "metadata": {},
   "source": [
    "<h2>1.1 Train and Test data split into 70:30 ratio</h2>"
   ]
  },
  {
   "cell_type": "code",
   "execution_count": 13,
   "metadata": {},
   "outputs": [
    {
     "name": "stdout",
     "output_type": "stream",
     "text": [
      "(19651, 11)\n",
      "(19651,)\n",
      "(8421, 11)\n",
      "(8421,)\n"
     ]
    }
   ],
   "source": [
    "#Spliting dataset to training(with first 70% points) and test(remaining 30% points) dataset\n",
    "\n",
    "n=len(sorted_Time_data)\n",
    "\n",
    "tr=sorted_Time_data.head((int(n*0.7))+1)#taking first 70% of points from sorted dataset based on 'Time' feature\n",
    "labels_tr=sorted_Time_data['Score'].head(int(n*0.7)+1)\n",
    "\n",
    "\n",
    "ts=sorted_Time_data.tail((int(n*0.3)))   #taking remaining 30% of points from sorted dataset based on 'Time' feature\n",
    "labels_ts=sorted_Time_data['Score'].tail(int(n*0.3))\n",
    "\n",
    "print(tr.shape)\n",
    "print(labels_tr.shape)\n",
    "print(ts.shape)\n",
    "print(labels_ts.shape)"
   ]
  },
  {
   "cell_type": "markdown",
   "metadata": {},
   "source": [
    "<h2> 1.2 Cleaning each reviews(text) of Train dataset</h2>"
   ]
  },
  {
   "cell_type": "code",
   "execution_count": 23,
   "metadata": {},
   "outputs": [],
   "source": [
    "i=0\n",
    "list_sent_tr=[]\n",
    "for sent in tr['Text'].values:\n",
    "    filtered_sentence=[]\n",
    "    sent=cleanhtml(sent)\n",
    "    for w in sent.split():\n",
    "        for cleaned_words in cleanpunc(w).split():\n",
    "            if(cleaned_words.isalpha()):    \n",
    "                filtered_sentence.append(cleaned_words.lower())\n",
    "            else:\n",
    "                continue \n",
    "    list_sent_tr.append(filtered_sentence)\n",
    "    "
   ]
  },
  {
   "cell_type": "markdown",
   "metadata": {},
   "source": [
    "<h2> 1.3 Cleaning each reviews(text) of Test dataset</h2>"
   ]
  },
  {
   "cell_type": "code",
   "execution_count": 24,
   "metadata": {},
   "outputs": [],
   "source": [
    "i=0\n",
    "list_of_sent_ts=[]\n",
    "for sent in ts['Text'].values:\n",
    "    filtered_sentence=[]\n",
    "    sent=cleanhtml(sent)\n",
    "    for w in sent.split():\n",
    "        for cleaned_words in cleanpunc(w).split():\n",
    "            if(cleaned_words.isalpha()):    \n",
    "                filtered_sentence.append(cleaned_words.lower())\n",
    "            else:\n",
    "                continue \n",
    "    list_of_sent_ts.append(filtered_sentence)\n",
    "    "
   ]
  },
  {
   "cell_type": "markdown",
   "metadata": {},
   "source": [
    "<h2>1.4 Building vectorizer using word2vector technique on Train data vocabulary</h2>"
   ]
  },
  {
   "cell_type": "code",
   "execution_count": 25,
   "metadata": {},
   "outputs": [],
   "source": [
    "w2vmodel_tr=gensim.models.Word2Vec(list_sent_tr,min_count=1,size=50, workers=4)    \n",
    "# min_count here says that if a word doesn't occur atleast 5 times than not construct its word2vector\n",
    "# size means dimension of each vector of word  , here is 50 dimension"
   ]
  },
  {
   "cell_type": "markdown",
   "metadata": {},
   "source": [
    "<h2> 1.5 Transforming each reviews(text) of Train data to vectors using above vectorizer(word2vec)</h2>"
   ]
  },
  {
   "cell_type": "code",
   "execution_count": 26,
   "metadata": {},
   "outputs": [],
   "source": [
    "# average Word2Vec\n",
    "# compute average word2vec for each review in train dataset.\n",
    "sent_vec_tr = []; # the avg-w2v for each sentence/review is stored in this list\n",
    "for sent in list_sent_tr: # for each review/sentence\n",
    "    sent_vec = np.zeros(50) # as word vectors are of zero length\n",
    "    cnt_words =0; # num of words with a valid vector in the sentence/review\n",
    "    for word in sent: # for each word in a review/sentence\n",
    "        try:\n",
    "            vec = w2vmodel_tr.wv[word]\n",
    "            sent_vec += vec\n",
    "            cnt_words += 1\n",
    "        except:\n",
    "            pass\n",
    "    sent_vec /= cnt_words\n",
    "    sent_vec_tr.append(sent_vec)\n"
   ]
  },
  {
   "cell_type": "markdown",
   "metadata": {},
   "source": [
    "<h2> 1.6 Transforming each reviews(text) of Test data to vectors using above vectorizer(word2vec)</h2>"
   ]
  },
  {
   "cell_type": "code",
   "execution_count": 27,
   "metadata": {},
   "outputs": [],
   "source": [
    "# average Word2Vec\n",
    "# compute average word2vec for each review of Test dataset.\n",
    "sent_vectors_ts = []; # the avg-w2v for each sentence/review is stored in this list\n",
    "for sent in list_of_sent_ts: # for each review/sentence\n",
    "    sent_vec = np.zeros(50) # as word vectors are of zero length\n",
    "    cnt_words =0; # num of words with a valid vector in the sentence/review\n",
    "    for word in sent: # for each word in a review/sentence\n",
    "        try:\n",
    "            vec = w2vmodel_tr.wv[word]\n",
    "            sent_vec += vec\n",
    "            cnt_words += 1\n",
    "        except:\n",
    "            pass\n",
    "    sent_vec /= cnt_words\n",
    "    sent_vectors_ts.append(sent_vec)\n"
   ]
  },
  {
   "cell_type": "markdown",
   "metadata": {},
   "source": [
    "<h2>1.7 Grid search on Decision Tree Classifier for computing optimal hyperparameter</h2>"
   ]
  },
  {
   "cell_type": "code",
   "execution_count": 17,
   "metadata": {},
   "outputs": [
    {
     "data": {
      "text/plain": [
       "GridSearchCV(cv=None, error_score='raise',\n",
       "       estimator=DecisionTreeClassifier(class_weight=None, criterion='gini', max_depth=None,\n",
       "            max_features=None, max_leaf_nodes=None,\n",
       "            min_impurity_decrease=0.0, min_impurity_split=None,\n",
       "            min_samples_leaf=1, min_samples_split=2,\n",
       "            min_weight_fraction_leaf=0.0, presort=False, random_state=None,\n",
       "            splitter='best'),\n",
       "       fit_params=None, iid=True, n_jobs=-1,\n",
       "       param_grid=[{'min_samples_split': [10, 20], 'max_depth': [2, 5, 10], 'min_samples_leaf': [5, 10]}],\n",
       "       pre_dispatch='2*n_jobs', refit=True, return_train_score='warn',\n",
       "       scoring=None, verbose=0)"
      ]
     },
     "execution_count": 17,
     "metadata": {},
     "output_type": "execute_result"
    }
   ],
   "source": [
    "param_grid = [{\"min_samples_split\": [10, 20],\n",
    "              \"max_depth\": [2, 5, 10],\n",
    "              \"min_samples_leaf\": [ 5, 10]\n",
    "              }]\n",
    "\n",
    "clf_avgw2v=tree.DecisionTreeClassifier()\n",
    "gscv_avgw2v = GridSearchCV(clf_avgw2v, param_grid, n_jobs=-1)\n",
    "gscv_avgw2v.fit(sent_vec_tr, labels_tr)\n"
   ]
  },
  {
   "cell_type": "code",
   "execution_count": 18,
   "metadata": {},
   "outputs": [
    {
     "name": "stdout",
     "output_type": "stream",
     "text": [
      "DecisionTreeClassifier(class_weight=None, criterion='gini', max_depth=2,\n",
      "            max_features=None, max_leaf_nodes=None,\n",
      "            min_impurity_decrease=0.0, min_impurity_split=None,\n",
      "            min_samples_leaf=5, min_samples_split=10,\n",
      "            min_weight_fraction_leaf=0.0, presort=False, random_state=None,\n",
      "            splitter='best')\n"
     ]
    }
   ],
   "source": [
    "print(gscv_avgw2v.best_estimator_)"
   ]
  },
  {
   "cell_type": "code",
   "execution_count": 19,
   "metadata": {},
   "outputs": [
    {
     "name": "stdout",
     "output_type": "stream",
     "text": [
      "{'max_depth': 2, 'min_samples_leaf': 5, 'min_samples_split': 10}\n"
     ]
    }
   ],
   "source": [
    "print(gscv_avgw2v.best_params_ )"
   ]
  },
  {
   "cell_type": "markdown",
   "metadata": {},
   "source": [
    "<h2>1.8 Random Search on Decision Tree Classifier for computing optimal hyperparameter</h2>"
   ]
  },
  {
   "cell_type": "code",
   "execution_count": 35,
   "metadata": {},
   "outputs": [
    {
     "data": {
      "text/plain": [
       "RandomizedSearchCV(cv=None, error_score='raise',\n",
       "          estimator=DecisionTreeClassifier(class_weight=None, criterion='gini', max_depth=None,\n",
       "            max_features=None, max_leaf_nodes=None,\n",
       "            min_impurity_decrease=0.0, min_impurity_split=None,\n",
       "            min_samples_leaf=1, min_samples_split=2,\n",
       "            min_weight_fraction_leaf=0.0, presort=False, random_state=None,\n",
       "            splitter='best'),\n",
       "          fit_params=None, iid=True, n_iter=10, n_jobs=-1,\n",
       "          param_distributions={'min_samples_split': <scipy.stats._distn_infrastructure.rv_frozen object at 0x000001F024EA9DA0>, 'max_depth': <scipy.stats._distn_infrastructure.rv_frozen object at 0x000001F024EA9908>, 'min_samples_leaf': <scipy.stats._distn_infrastructure.rv_frozen object at 0x000001F023438278>},\n",
       "          pre_dispatch='2*n_jobs', random_state=None, refit=True,\n",
       "          return_train_score='warn', scoring=None, verbose=0)"
      ]
     },
     "execution_count": 35,
     "metadata": {},
     "output_type": "execute_result"
    }
   ],
   "source": [
    "\n",
    "param_dist = {\n",
    "              \"min_samples_split\": randint(1, 20),\n",
    "              \"max_depth\": randint(1, 20),\n",
    "              \"min_samples_leaf\": randint(1, 20),\n",
    "              }\n",
    "\n",
    "clf=tree.DecisionTreeClassifier()\n",
    "rscv=RandomizedSearchCV(clf, param_distributions=param_dist,n_jobs=-1)\n",
    "rscv.fit(sent_vec_tr, labels_tr)\n"
   ]
  },
  {
   "cell_type": "code",
   "execution_count": 36,
   "metadata": {},
   "outputs": [
    {
     "name": "stdout",
     "output_type": "stream",
     "text": [
      "{'max_depth': 2, 'min_samples_leaf': 8, 'min_samples_split': 15}\n"
     ]
    }
   ],
   "source": [
    "print(rscv.best_params_ )"
   ]
  },
  {
   "cell_type": "code",
   "execution_count": 37,
   "metadata": {},
   "outputs": [
    {
     "name": "stdout",
     "output_type": "stream",
     "text": [
      "DecisionTreeClassifier(class_weight=None, criterion='gini', max_depth=2,\n",
      "            max_features=None, max_leaf_nodes=None,\n",
      "            min_impurity_decrease=0.0, min_impurity_split=None,\n",
      "            min_samples_leaf=8, min_samples_split=15,\n",
      "            min_weight_fraction_leaf=0.0, presort=False, random_state=None,\n",
      "            splitter='best')\n"
     ]
    }
   ],
   "source": [
    "print(rscv.best_estimator_ )"
   ]
  },
  {
   "cell_type": "markdown",
   "metadata": {},
   "source": [
    "<h2>1.9 Computing optimal \"max_depth\" for Decision Tree using 10-fold cross-validation and plotting misclassification error</h2>"
   ]
  },
  {
   "cell_type": "code",
   "execution_count": 23,
   "metadata": {},
   "outputs": [
    {
     "name": "stdout",
     "output_type": "stream",
     "text": [
      "\n",
      "The optimal depth is : 2\n"
     ]
    },
    {
     "data": {
      "image/png": "[encoded data removed]",
      "text/plain": [
       "<matplotlib.figure.Figure at 0x1f0760d1ef0>"
      ]
     },
     "metadata": {},
     "output_type": "display_data"
    },
    {
     "name": "stdout",
     "output_type": "stream",
     "text": [
      "the misclassification error for each depth value is :  [0.153 0.153 0.154 0.156 0.155 0.159 0.167 0.172 0.181]\n"
     ]
    }
   ],
   "source": [
    "\n",
    "# creating odd list of max_depth for Decision tree\n",
    "depth_list= list(range(2,11))\n",
    "\n",
    "# empty list that will hold cv scores\n",
    "cv_scores = []\n",
    "\n",
    "# perform 10-fold cross validation\n",
    "for depth in depth_list:\n",
    "    DT = tree.DecisionTreeClassifier(max_depth=depth)\n",
    "    scores = cross_val_score(DT, sent_vec_tr, labels_tr, cv=10, scoring='accuracy')\n",
    "    cv_scores.append(scores.mean())\n",
    "\n",
    "# changing to misclassification error\n",
    "MSE = [1 - x for x in cv_scores]\n",
    "\n",
    "# determining best max_depth\n",
    "optimal_depth = depth_list[MSE.index(min(MSE))]\n",
    "print('\\nThe optimal depth is : {}'.format(optimal_depth))\n",
    "\n",
    "# plot misclassification error vs depth \n",
    "plt.plot(depth_list, MSE)\n",
    "\n",
    "for xy in zip(depth_list, np.round(MSE,3)):\n",
    "    plt.annotate('(%s, %s)' % xy, xy=xy, textcoords='data')\n",
    "\n",
    "plt.xlabel('Depth')\n",
    "plt.ylabel('Misclassification Error')\n",
    "plt.show()\n",
    "\n",
    "print(\"the misclassification error for each depth value is : \", np.round(MSE,3))"
   ]
  },
  {
   "cell_type": "markdown",
   "metadata": {},
   "source": [
    "<h2> 1.10 Computing Train error</h2>"
   ]
  },
  {
   "cell_type": "code",
   "execution_count": 28,
   "metadata": {},
   "outputs": [
    {
     "name": "stdout",
     "output_type": "stream",
     "text": [
      "\n",
      " Train error is : 0.15291842654317844\n"
     ]
    }
   ],
   "source": [
    "#calculating train error\n",
    "DT_clf = tree.DecisionTreeClassifier(max_depth= 2, min_samples_leaf= 8, min_samples_split= 15)\n",
    "DT_model = DT_clf.fit(sent_vec_tr, labels_tr)\n",
    "y_pred_tr = DT_clf.predict(sent_vec_tr)\n",
    "acc_tr = accuracy_score(labels_tr, y_pred_tr)\n",
    "train_error = 1-acc_tr\n",
    "print('\\n Train error is : {}'.format(train_error))"
   ]
  },
  {
   "cell_type": "markdown",
   "metadata": {},
   "source": [
    "<h2> 1.11 Computing Test error</h2>"
   ]
  },
  {
   "cell_type": "code",
   "execution_count": 29,
   "metadata": {},
   "outputs": [
    {
     "name": "stdout",
     "output_type": "stream",
     "text": [
      "\n",
      " Test error is : 0.17349483434271462\n"
     ]
    }
   ],
   "source": [
    "#calculating test error\n",
    "DT_clf = tree.DecisionTreeClassifier(max_depth= 2, min_samples_leaf= 8, min_samples_split= 15)\n",
    "DT_model = DT_clf.fit(sent_vec_tr, labels_tr)\n",
    "y_pred_ts = DT_clf.predict(sent_vectors_ts)\n",
    "acc_ts = accuracy_score(labels_ts, y_pred_ts)\n",
    "test_error = 1-acc_ts\n",
    "print('\\n Test error is : {}'.format(test_error))\n"
   ]
  },
  {
   "cell_type": "markdown",
   "metadata": {},
   "source": [
    "<h2>1.12 Plotting confusion matrix</h2>"
   ]
  },
  {
   "cell_type": "code",
   "execution_count": 30,
   "metadata": {},
   "outputs": [],
   "source": [
    "DT_clf = tree.DecisionTreeClassifier(max_depth= 2, min_samples_leaf= 5, min_samples_split= 10)\n",
    "y_pred = DT_clf.fit(sent_vec_tr, labels_tr).predict(sent_vectors_ts)"
   ]
  },
  {
   "cell_type": "code",
   "execution_count": 31,
   "metadata": {},
   "outputs": [
    {
     "name": "stdout",
     "output_type": "stream",
     "text": [
      "-------------------- Confusion matrix --------------------\n"
     ]
    },
    {
     "data": {
      "image/png": "[encoded data removed]",
      "text/plain": [
       "<matplotlib.figure.Figure at 0x1848ff34470>"
      ]
     },
     "metadata": {},
     "output_type": "display_data"
    }
   ],
   "source": [
    "from sklearn.metrics import confusion_matrix\n",
    "import seaborn as sns\n",
    "\n",
    "C = confusion_matrix(labels_ts, y_pred)\n",
    "labels = [0,1] #label 0 means they are negative reviews\n",
    "#label 1 means they are positive reviews\n",
    "\n",
    "print(\"-\"*20, \"Confusion matrix\", \"-\"*20)\n",
    "sns.heatmap(C, annot=True, cmap=\"YlGnBu\", fmt=\".3f\", xticklabels=labels, yticklabels=labels)\n",
    "plt.xlabel('Predicted Class')\n",
    "plt.ylabel('Original Class')\n",
    "plt.show()\n"
   ]
  },
  {
   "cell_type": "markdown",
   "metadata": {},
   "source": [
    "<b>Observation(s):--</b>\n",
    "1. Points that are predicted by Decision Tree model as class 0 from them 0 points are actually of class 0 and 0 points are of class 1.\n",
    "\n",
    "2. Points that are predicted by Decision Tree model as class 1 from them 6960 points are actually of class 1 and 1461 points are of class 0."
   ]
  },
  {
   "cell_type": "markdown",
   "metadata": {},
   "source": [
    "# (2) TF-IDF Weighted Word2Vec"
   ]
  },
  {
   "cell_type": "markdown",
   "metadata": {},
   "source": [
    "<h2>2.1 Building vectorizer using tfidf weighted word2vector technique on Train data vocabulary</h2>"
   ]
  },
  {
   "cell_type": "code",
   "execution_count": 15,
   "metadata": {},
   "outputs": [
    {
     "name": "stdout",
     "output_type": "stream",
     "text": [
      "<class 'scipy.sparse.csr.csr_matrix'>\n",
      "(19651, 26832)\n"
     ]
    }
   ],
   "source": [
    "#tf-idf weighted w2v\n",
    "\n",
    "from sklearn.feature_extraction.text import TfidfVectorizer\n",
    "\n",
    "tfidfw2v_vect_tr = TfidfVectorizer()\n",
    "final_counts_tfidfw2v_tr= tfidfw2v_vect_tr.fit_transform(tr['Text'].values)\n",
    "\n",
    "print(type(final_counts_tfidfw2v_tr))\n",
    "print(final_counts_tfidfw2v_tr.shape)"
   ]
  },
  {
   "cell_type": "code",
   "execution_count": 33,
   "metadata": {},
   "outputs": [
    {
     "name": "stdout",
     "output_type": "stream",
     "text": [
      "(19651,)\n",
      "(8421,)\n"
     ]
    }
   ],
   "source": [
    "labels_tfidfw2v_tr=sorted_Time_data['Score'].head(int(n*0.7)+1) #class_labels for train data\n",
    "labels_tfidfw2v_ts=sorted_Time_data['Score'].tail(int(n*0.3)) #class_labels for test data\n",
    "print(labels_tfidfw2v_tr.shape)\n",
    "print(labels_tfidfw2v_ts.shape)"
   ]
  },
  {
   "cell_type": "markdown",
   "metadata": {},
   "source": [
    "<h2> 2.2 Transforming each reviews(text) of Train data to vectors using above vectorizer(tfidf weighted word2vec)</h2>"
   ]
  },
  {
   "cell_type": "code",
   "execution_count": 34,
   "metadata": {},
   "outputs": [],
   "source": [
    "t_tr=tfidfw2v_vect_tr.get_feature_names()\n",
    "t1_tr=list()\n",
    "ro=0\n",
    "for sen in list_sent_tr:\n",
    "    revec=np.zeros(50)\n",
    "    wrsu=0\n",
    "    for wro in sen:\n",
    "        try:\n",
    "            wve=w2vmodel_tr.wv[wro]\n",
    "            tfv=final_counts_tfidfw2v_tr[ro,t_tr.index(wro)]\n",
    "            revec += (wve*tfv)\n",
    "            wrsu += tfv\n",
    "        except:\n",
    "            pass\n",
    "    revec /= wrsu\n",
    "    t1_tr.append(revec)\n",
    "    ro += 1"
   ]
  },
  {
   "cell_type": "markdown",
   "metadata": {},
   "source": [
    "<h2> 2.3 Transforming each reviews(text) of Test data to vectors using above vectorizer(tfidf weighted word2vec)</h2>"
   ]
  },
  {
   "cell_type": "code",
   "execution_count": 36,
   "metadata": {},
   "outputs": [
    {
     "name": "stderr",
     "output_type": "stream",
     "text": [
      "C:\\Users\\Ashish\\Anaconda3\\lib\\site-packages\\ipykernel_launcher.py:14: RuntimeWarning: invalid value encountered in true_divide\n",
      "  \n"
     ]
    }
   ],
   "source": [
    "t1_ts=list()\n",
    "ro=0\n",
    "for sen in list_of_sent_ts:\n",
    "    revec=np.zeros(50)\n",
    "    wrsu=0\n",
    "    for wro in sen:\n",
    "        try:\n",
    "            wve=w2vmodel_tr.wv[wro]\n",
    "            tfv=final_counts_tfidfw2v_tr[ro,t_tr.index(wro)]\n",
    "            revec += (wve*tfv)\n",
    "            wrsu += tfv\n",
    "        except:\n",
    "            pass\n",
    "    revec /= wrsu\n",
    "    t1_ts.append(revec)\n",
    "    ro += 1"
   ]
  },
  {
   "cell_type": "code",
   "execution_count": 43,
   "metadata": {},
   "outputs": [],
   "source": [
    "tfidfw2v_ts = pd.DataFrame(data=t1_ts) \n",
    "tfidfw2v_ts = tfidfw2v_ts.fillna(0)\n",
    "#pd.isna(tfidfw2v_ts)"
   ]
  },
  {
   "cell_type": "markdown",
   "metadata": {},
   "source": [
    "<h2>2.3 Grid search on Decision Tree Classifier for computing optimal hyperparameter</h2>"
   ]
  },
  {
   "cell_type": "code",
   "execution_count": 28,
   "metadata": {},
   "outputs": [
    {
     "data": {
      "text/plain": [
       "GridSearchCV(cv=None, error_score='raise',\n",
       "       estimator=DecisionTreeClassifier(class_weight=None, criterion='gini', max_depth=None,\n",
       "            max_features=None, max_leaf_nodes=None,\n",
       "            min_impurity_decrease=0.0, min_impurity_split=None,\n",
       "            min_samples_leaf=1, min_samples_split=2,\n",
       "            min_weight_fraction_leaf=0.0, presort=False, random_state=None,\n",
       "            splitter='best'),\n",
       "       fit_params=None, iid=True, n_jobs=-1,\n",
       "       param_grid=[{'min_samples_split': [10, 20], 'max_depth': [2, 5, 10], 'min_samples_leaf': [5, 10]}],\n",
       "       pre_dispatch='2*n_jobs', refit=True, return_train_score='warn',\n",
       "       scoring=None, verbose=0)"
      ]
     },
     "execution_count": 28,
     "metadata": {},
     "output_type": "execute_result"
    }
   ],
   "source": [
    "param_grid = [{\"min_samples_split\": [10, 20],\n",
    "              \"max_depth\": [2, 5, 10],\n",
    "              \"min_samples_leaf\": [ 5, 10]\n",
    "              }]\n",
    "\n",
    "clf_tfidfw2v=tree.DecisionTreeClassifier()\n",
    "gscv_tfidfw2v = GridSearchCV(clf_tfidfw2v, param_grid, n_jobs=-1)\n",
    "gscv_tfidfw2v.fit(t1_tr, labels_tfidfw2v_tr)"
   ]
  },
  {
   "cell_type": "code",
   "execution_count": 29,
   "metadata": {},
   "outputs": [
    {
     "name": "stdout",
     "output_type": "stream",
     "text": [
      "DecisionTreeClassifier(class_weight=None, criterion='gini', max_depth=2,\n",
      "            max_features=None, max_leaf_nodes=None,\n",
      "            min_impurity_decrease=0.0, min_impurity_split=None,\n",
      "            min_samples_leaf=5, min_samples_split=10,\n",
      "            min_weight_fraction_leaf=0.0, presort=False, random_state=None,\n",
      "            splitter='best')\n"
     ]
    }
   ],
   "source": [
    "print(gscv_tfidfw2v.best_estimator_)"
   ]
  },
  {
   "cell_type": "code",
   "execution_count": 30,
   "metadata": {},
   "outputs": [
    {
     "name": "stdout",
     "output_type": "stream",
     "text": [
      "{'max_depth': 2, 'min_samples_leaf': 5, 'min_samples_split': 10}\n"
     ]
    }
   ],
   "source": [
    "print(gscv_tfidfw2v.best_params_ )"
   ]
  },
  {
   "cell_type": "markdown",
   "metadata": {},
   "source": [
    "<h2>2.4 Random Search on Decision Tree Classifier for computing optimal hyperparameter</h2>"
   ]
  },
  {
   "cell_type": "code",
   "execution_count": 38,
   "metadata": {},
   "outputs": [
    {
     "data": {
      "text/plain": [
       "RandomizedSearchCV(cv=None, error_score='raise',\n",
       "          estimator=DecisionTreeClassifier(class_weight=None, criterion='gini', max_depth=None,\n",
       "            max_features=None, max_leaf_nodes=None,\n",
       "            min_impurity_decrease=0.0, min_impurity_split=None,\n",
       "            min_samples_leaf=1, min_samples_split=2,\n",
       "            min_weight_fraction_leaf=0.0, presort=False, random_state=None,\n",
       "            splitter='best'),\n",
       "          fit_params=None, iid=True, n_iter=10, n_jobs=-1,\n",
       "          param_distributions={'min_samples_split': <scipy.stats._distn_infrastructure.rv_frozen object at 0x000001F024600CF8>, 'max_depth': <scipy.stats._distn_infrastructure.rv_frozen object at 0x000001F024600EB8>, 'min_samples_leaf': <scipy.stats._distn_infrastructure.rv_frozen object at 0x000001F0246004A8>},\n",
       "          pre_dispatch='2*n_jobs', random_state=None, refit=True,\n",
       "          return_train_score='warn', scoring=None, verbose=0)"
      ]
     },
     "execution_count": 38,
     "metadata": {},
     "output_type": "execute_result"
    }
   ],
   "source": [
    "param_dist = {\n",
    "              \"min_samples_split\": randint(1, 20),\n",
    "              \"max_depth\": randint(1, 20),\n",
    "              \"min_samples_leaf\": randint(1, 20),\n",
    "              }\n",
    "\n",
    "clf_tfidfw2v = tree.DecisionTreeClassifier()\n",
    "rscv_tfidfw2v = RandomizedSearchCV(clf_tfidfw2v, param_distributions=param_dist,n_jobs=-1)\n",
    "rscv_tfidfw2v.fit(t1_tr, labels_tfidfw2v_tr)\n"
   ]
  },
  {
   "cell_type": "code",
   "execution_count": 39,
   "metadata": {},
   "outputs": [
    {
     "name": "stdout",
     "output_type": "stream",
     "text": [
      "DecisionTreeClassifier(class_weight=None, criterion='gini', max_depth=1,\n",
      "            max_features=None, max_leaf_nodes=None,\n",
      "            min_impurity_decrease=0.0, min_impurity_split=None,\n",
      "            min_samples_leaf=2, min_samples_split=12,\n",
      "            min_weight_fraction_leaf=0.0, presort=False, random_state=None,\n",
      "            splitter='best')\n"
     ]
    }
   ],
   "source": [
    "print(rscv_tfidfw2v.best_estimator_)"
   ]
  },
  {
   "cell_type": "code",
   "execution_count": 40,
   "metadata": {},
   "outputs": [
    {
     "name": "stdout",
     "output_type": "stream",
     "text": [
      "{'max_depth': 1, 'min_samples_leaf': 2, 'min_samples_split': 12}\n"
     ]
    }
   ],
   "source": [
    "print(rscv_tfidfw2v.best_params_ )"
   ]
  },
  {
   "cell_type": "markdown",
   "metadata": {},
   "source": [
    "<h2>2.5 Computing optimal \"max_depth\" for Decision Tree using 10-fold cross-validation and plotting misclassification error</h2>"
   ]
  },
  {
   "cell_type": "code",
   "execution_count": 32,
   "metadata": {},
   "outputs": [
    {
     "name": "stdout",
     "output_type": "stream",
     "text": [
      "\n",
      "The optimal depth is : 2\n"
     ]
    },
    {
     "data": {
      "image/png": "[encoded data removed]",
      "text/plain": [
       "<matplotlib.figure.Figure at 0x1f024603710>"
      ]
     },
     "metadata": {},
     "output_type": "display_data"
    },
    {
     "name": "stdout",
     "output_type": "stream",
     "text": [
      "the misclassification error for each depth value is :  [0.153 0.153 0.156 0.157 0.162 0.165 0.17  0.176 0.182]\n"
     ]
    }
   ],
   "source": [
    "# creating odd list of max_depth for Decision tree\n",
    "\n",
    "depth_list= list(range(2,11))\n",
    "\n",
    "# empty list that will hold cv scores\n",
    "cv_scores_tfidfw2v = []\n",
    "\n",
    "# perform 10-fold cross validation\n",
    "for depth in depth_list:\n",
    "    DT = tree.DecisionTreeClassifier(max_depth=depth)\n",
    "    scores = cross_val_score(DT, t1_tr, labels_tfidfw2v_tr, cv=10, scoring='accuracy')\n",
    "    cv_scores_tfidfw2v.append(scores.mean())\n",
    "\n",
    "# changing to misclassification error\n",
    "MSE_tfidfw2v = [1 - x for x in cv_scores_tfidfw2v]\n",
    "\n",
    "# determining best max_depth\n",
    "optimal_depth = depth_list[MSE_tfidfw2v.index(min(MSE_tfidfw2v))]\n",
    "print('\\nThe optimal depth is : {}'.format(optimal_depth))\n",
    "\n",
    "# plot misclassification error vs depth \n",
    "plt.plot(depth_list, MSE_tfidfw2v)\n",
    "\n",
    "for xy in zip(depth_list, np.round(MSE_tfidfw2v,3)):\n",
    "    plt.annotate('(%s, %s)' % xy, xy=xy, textcoords='data')\n",
    "\n",
    "plt.xlabel('Depth')\n",
    "plt.ylabel('Misclassification Error')\n",
    "plt.show()\n",
    "\n",
    "print(\"the misclassification error for each depth value is : \", np.round(MSE_tfidfw2v,3))"
   ]
  },
  {
   "cell_type": "markdown",
   "metadata": {},
   "source": [
    "<h2> 2.6 Computing Train error </h2>"
   ]
  },
  {
   "cell_type": "code",
   "execution_count": 46,
   "metadata": {},
   "outputs": [
    {
     "name": "stdout",
     "output_type": "stream",
     "text": [
      "\n",
      " Train error is : 0.15291842654317844\n"
     ]
    }
   ],
   "source": [
    "#calculating train error\n",
    "DT_clf = tree.DecisionTreeClassifier(max_depth= 2, min_samples_leaf= 2, min_samples_split= 12)\n",
    "DT_model = DT_clf.fit(t1_tr, labels_tfidfw2v_tr)\n",
    "y_pred_tr = DT_clf.predict(t1_tr)\n",
    "acc_tr = accuracy_score(labels_tfidfw2v_tr, y_pred_tr) \n",
    "train_error = 1-acc_tr\n",
    "print('\\n Train error is : {}'.format(train_error))"
   ]
  },
  {
   "cell_type": "markdown",
   "metadata": {},
   "source": [
    "<h2> 2.7 Computing Test error </h2>"
   ]
  },
  {
   "cell_type": "code",
   "execution_count": 47,
   "metadata": {},
   "outputs": [
    {
     "name": "stdout",
     "output_type": "stream",
     "text": [
      "\n",
      " Test error is : 0.17349483434271462\n"
     ]
    }
   ],
   "source": [
    "#calculating test error\n",
    "DT_clf = tree.DecisionTreeClassifier(max_depth= 2, min_samples_leaf= 2, min_samples_split= 12)\n",
    "DT_model = DT_clf.fit(t1_tr, labels_tfidfw2v_tr)\n",
    "y_pred_ts = DT_clf.predict(tfidfw2v_ts)\n",
    "acc_ts = accuracy_score(labels_tfidfw2v_ts, y_pred_ts)\n",
    "test_error = 1-acc_ts\n",
    "print('\\n Test error is : {}'.format(test_error))\n"
   ]
  },
  {
   "cell_type": "markdown",
   "metadata": {},
   "source": [
    "<h2> 2.8 Plotting confusion matrix </h2>"
   ]
  },
  {
   "cell_type": "code",
   "execution_count": 49,
   "metadata": {},
   "outputs": [],
   "source": [
    "DT_clf = tree.DecisionTreeClassifier(max_depth= 2, min_samples_leaf= 2, min_samples_split= 12)\n",
    "y_pred_DT = DT_clf.fit(t1_tr, labels_tfidfw2v_tr).predict(tfidfw2v_ts)"
   ]
  },
  {
   "cell_type": "code",
   "execution_count": 50,
   "metadata": {},
   "outputs": [
    {
     "name": "stdout",
     "output_type": "stream",
     "text": [
      "-------------------- Confusion matrix --------------------\n"
     ]
    },
    {
     "data": {
      "image/png": "[encoded data removed]",
      "text/plain": [
       "<matplotlib.figure.Figure at 0x184827ec2e8>"
      ]
     },
     "metadata": {},
     "output_type": "display_data"
    }
   ],
   "source": [
    "from sklearn.metrics import confusion_matrix\n",
    "import seaborn as sns\n",
    "\n",
    "C = confusion_matrix(labels_tfidfw2v_ts, y_pred_DT)\n",
    "labels = [0,1] #label 0 means they are negative reviews\n",
    "#label 1 means they are positive reviews\n",
    "\n",
    "print(\"-\"*20, \"Confusion matrix\", \"-\"*20)\n",
    "sns.heatmap(C, annot=True, cmap=\"YlGnBu\", fmt=\".3f\", xticklabels=labels, yticklabels=labels)\n",
    "plt.xlabel('Predicted Class')\n",
    "plt.ylabel('Original Class')\n",
    "plt.show()\n"
   ]
  },
  {
   "cell_type": "markdown",
   "metadata": {},
   "source": [
    "<b>Observation(s):--</b>\n",
    "1. Points that are predicted by Decision Tree model as class 0 from them 0 points are actually of class 0 and 0 points are of class 1.\n",
    "\n",
    "2. Points that are predicted by Decision Tree model as class 1 from them 6960 points are actually of class 1 and 1461 points are of class 0."
   ]
  },
  {
   "cell_type": "markdown",
   "metadata": {},
   "source": [
    "\n",
    "<html>\n",
    "<head>\n",
    "<style>\n",
    "table, th, td {\n",
    "    border: 1px solid black;\n",
    "    border-collapse: collapse;\n",
    "}\n",
    "th, td {\n",
    "    padding: 25px;\n",
    "    text-align: left;\n",
    "}\n",
    "\n",
    "</style>\n",
    "</head>\n",
    "<body>\n",
    "\n",
    "<h2>Summary</h2>\n",
    "<table style=\"width:100%\">\n",
    "  <tr>\n",
    "    <th>Model</th>\n",
    "    <th>Best Hyperparameter</th> \n",
    "    <th>Train error</th>\n",
    "    <th>Test error</th>\n",
    "  </tr>\n",
    "  <tr>\n",
    "    <td>Decision Tree + avgw2v</td>\n",
    "      <td>'max_depth': 1, 'min_samples_leaf': 2, 'min_samples_split': 12 </td>\n",
    "    <td>0.15291842654317844</td>\n",
    "    <td>0.17349483434271462</td>\n",
    "  </tr>\n",
    "  <tr>\n",
    "    <td>Decision Tree + tfidfw2v</td>\n",
    "    <td>'max_depth': 2, 'min_samples_leaf': 8, 'min_samples_split': 15</td>\n",
    "    <td>0.15291842654317844</td>\n",
    "    <td>0.17349483434271462</td>\n",
    "  </tr>\n",
    "</table>\n",
    "\n",
    "</body>\n",
    "</html>\n"
   ]
  },
  {
   "cell_type": "code",
   "execution_count": null,
   "metadata": {},
   "outputs": [],
   "source": []
  }
 ],
 "metadata": {
  "kernelspec": {
   "display_name": "Python 3",
   "language": "python",
   "name": "python3"
  },
  "language_info": {
   "codemirror_mode": {
    "name": "ipython",
    "version": 3
   },
   "file_extension": ".py",
   "mimetype": "text/x-python",
   "name": "python",
   "nbconvert_exporter": "python",
   "pygments_lexer": "ipython3",
   "version": "3.6.4"
  }
 },
 "nbformat": 4,
 "nbformat_minor": 2
}
